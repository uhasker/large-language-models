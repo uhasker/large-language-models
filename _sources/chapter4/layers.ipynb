{
 "cells": [
  {
   "cell_type": "code",
   "execution_count": 3,
   "id": "7e8ea648-9424-4a55-8660-99785136af8d",
   "metadata": {},
   "outputs": [],
   "source": [
    "import torch\n",
    "import torch.nn as nn"
   ]
  },
  {
   "cell_type": "markdown",
   "id": "e45b1e4b-38ea-45d7-b396-c76fce92553f",
   "metadata": {},
   "source": [
    "## Linear Layer"
   ]
  },
  {
   "cell_type": "markdown",
   "id": "5147278f-9ce8-4e2d-b83e-0fc18b6d958c",
   "metadata": {},
   "source": [
    "A linear layer is simply a linear transformation of input represented by matrix multiplication:"
   ]
  },
  {
   "cell_type": "code",
   "execution_count": 4,
   "id": "ed2cf848-88aa-4944-bd05-ce75e0f165a0",
   "metadata": {},
   "outputs": [],
   "source": [
    "d_in = 3\n",
    "d_out = 5\n",
    "\n",
    "x = torch.randn(d_in)\n",
    "\n",
    "layer = nn.Linear(3, 5)"
   ]
  },
  {
   "cell_type": "code",
   "execution_count": 6,
   "id": "1d93bb61-5537-44f3-a339-3ede1ce8fa9c",
   "metadata": {},
   "outputs": [
    {
     "data": {
      "text/plain": [
       "torch.Size([5])"
      ]
     },
     "execution_count": 6,
     "metadata": {},
     "output_type": "execute_result"
    }
   ],
   "source": [
    "y = layer(x)\n",
    "y.shape"
   ]
  },
  {
   "cell_type": "code",
   "execution_count": 16,
   "id": "13997d79-1eac-40ea-9189-0c0df0113ed5",
   "metadata": {},
   "outputs": [
    {
     "data": {
      "text/plain": [
       "tensor([-0.9730,  0.6827, -0.5636, -0.4266, -0.2361], grad_fn=<ViewBackward0>)"
      ]
     },
     "execution_count": 16,
     "metadata": {},
     "output_type": "execute_result"
    }
   ],
   "source": [
    "y"
   ]
  },
  {
   "cell_type": "code",
   "execution_count": 14,
   "id": "2db23ab4-f354-4da1-b3f3-b2deced4e314",
   "metadata": {},
   "outputs": [
    {
     "data": {
      "text/plain": [
       "Parameter containing:\n",
       "tensor([[-0.5517,  0.2568,  0.0783],\n",
       "        [ 0.2566, -0.1705,  0.1225],\n",
       "        [-0.3060, -0.3898, -0.2540],\n",
       "        [-0.2436, -0.0818,  0.2361],\n",
       "        [-0.2218,  0.1268,  0.2490]], requires_grad=True)"
      ]
     },
     "execution_count": 14,
     "metadata": {},
     "output_type": "execute_result"
    }
   ],
   "source": [
    "layer.weight"
   ]
  },
  {
   "cell_type": "code",
   "execution_count": 17,
   "id": "1c091fa8-5972-480c-ac3d-a31030a89e14",
   "metadata": {},
   "outputs": [
    {
     "data": {
      "text/plain": [
       "torch.Size([5, 3])"
      ]
     },
     "execution_count": 17,
     "metadata": {},
     "output_type": "execute_result"
    }
   ],
   "source": [
    "layer.weight.shape"
   ]
  },
  {
   "cell_type": "code",
   "execution_count": 15,
   "id": "dbc3745f-dc12-462c-bf41-b44430fccc3f",
   "metadata": {},
   "outputs": [
    {
     "data": {
      "text/plain": [
       "Parameter containing:\n",
       "tensor([ 0.2336,  0.0629, -0.1942, -0.0534,  0.2297], requires_grad=True)"
      ]
     },
     "execution_count": 15,
     "metadata": {},
     "output_type": "execute_result"
    }
   ],
   "source": [
    "layer.bias"
   ]
  },
  {
   "cell_type": "code",
   "execution_count": 18,
   "id": "56e6676b-265c-4c4a-9159-8c495b0af98b",
   "metadata": {},
   "outputs": [
    {
     "data": {
      "text/plain": [
       "torch.Size([5])"
      ]
     },
     "execution_count": 18,
     "metadata": {},
     "output_type": "execute_result"
    }
   ],
   "source": [
    "layer.bias.shape"
   ]
  },
  {
   "cell_type": "code",
   "execution_count": 20,
   "id": "9eee29cc-39c5-4fb6-bba7-70ab244175f0",
   "metadata": {},
   "outputs": [
    {
     "data": {
      "text/plain": [
       "tensor([-0.9730,  0.6827, -0.5636, -0.4266, -0.2361], grad_fn=<AddBackward0>)"
      ]
     },
     "execution_count": 20,
     "metadata": {},
     "output_type": "execute_result"
    }
   ],
   "source": [
    "torch.matmul(layer.weight, x) + layer.bias"
   ]
  },
  {
   "cell_type": "markdown",
   "id": "0b68c4e9-66ea-493c-b1b9-6e57aa572775",
   "metadata": {},
   "source": [
    "Note that we can pass a batch through the linear layer:"
   ]
  },
  {
   "cell_type": "code",
   "execution_count": 7,
   "id": "faa6ba17-31b0-4aab-9a7c-33969948b1c8",
   "metadata": {},
   "outputs": [],
   "source": [
    "batch_dim = 4\n",
    "\n",
    "X = torch.randn(batch_dim, d_in)\n",
    "Y = layer(X)"
   ]
  },
  {
   "cell_type": "code",
   "execution_count": 8,
   "id": "0b54c50e-0174-489d-a79d-29c40f1d635b",
   "metadata": {},
   "outputs": [
    {
     "data": {
      "text/plain": [
       "torch.Size([4, 5])"
      ]
     },
     "execution_count": 8,
     "metadata": {},
     "output_type": "execute_result"
    }
   ],
   "source": [
    "Y.shape"
   ]
  },
  {
   "cell_type": "markdown",
   "id": "0938dd4a-9040-49e2-8901-bee87d612d92",
   "metadata": {},
   "source": [
    "## Activation Functions"
   ]
  },
  {
   "cell_type": "code",
   "execution_count": 70,
   "id": "c596ba84-b031-4ed8-b59c-220be5bd4539",
   "metadata": {},
   "outputs": [
    {
     "data": {
      "text/plain": [
       "(torch.nn.modules.activation.ReLU, torch.nn.modules.activation.GELU)"
      ]
     },
     "execution_count": 70,
     "metadata": {},
     "output_type": "execute_result"
    }
   ],
   "source": [
    "nn.ReLU, nn.GELU"
   ]
  },
  {
   "cell_type": "markdown",
   "id": "8b890a1f-3a19-4900-84f0-52284f025817",
   "metadata": {},
   "source": [
    "## Dropout Layer"
   ]
  },
  {
   "cell_type": "code",
   "execution_count": 22,
   "id": "ca039316-adb9-4c37-90b4-8793c658fc06",
   "metadata": {},
   "outputs": [
    {
     "data": {
      "text/plain": [
       "tensor([ 2.9677, -2.7410,  0.4559])"
      ]
     },
     "execution_count": 22,
     "metadata": {},
     "output_type": "execute_result"
    }
   ],
   "source": [
    "dropout_layer = nn.Dropout(p=0.5)\n",
    "\n",
    "x = torch.randn(d_in)\n",
    "x"
   ]
  },
  {
   "cell_type": "code",
   "execution_count": 24,
   "id": "cc11541f-f692-44e7-961c-69c653952221",
   "metadata": {},
   "outputs": [
    {
     "data": {
      "text/plain": [
       "tensor([5.9355, -0.0000, 0.0000])"
      ]
     },
     "execution_count": 24,
     "metadata": {},
     "output_type": "execute_result"
    }
   ],
   "source": [
    "dropout_layer(x)"
   ]
  },
  {
   "cell_type": "code",
   "execution_count": 25,
   "id": "78f55126-aa37-4a8c-b2ea-0bca7f178666",
   "metadata": {},
   "outputs": [
    {
     "data": {
      "text/plain": [
       "tensor([[-0.6034, -1.3383, -1.0745],\n",
       "        [ 0.0970,  1.1263,  1.3107],\n",
       "        [ 0.5935,  1.6124, -0.3863],\n",
       "        [-0.2381,  0.3930,  0.3202]])"
      ]
     },
     "execution_count": 25,
     "metadata": {},
     "output_type": "execute_result"
    }
   ],
   "source": [
    "X = torch.randn(batch_dim, d_in)\n",
    "X"
   ]
  },
  {
   "cell_type": "code",
   "execution_count": 26,
   "id": "86efb67f-09e1-4fb8-9ba4-61acec313ed0",
   "metadata": {},
   "outputs": [
    {
     "data": {
      "text/plain": [
       "tensor([[-0.0000, -0.0000, -2.1490],\n",
       "        [ 0.1939,  2.2525,  2.6215],\n",
       "        [ 1.1871,  0.0000, -0.0000],\n",
       "        [-0.0000,  0.0000,  0.6404]])"
      ]
     },
     "execution_count": 26,
     "metadata": {},
     "output_type": "execute_result"
    }
   ],
   "source": [
    "dropout_layer(X)"
   ]
  },
  {
   "cell_type": "markdown",
   "id": "de0f7fa1-c18b-44bb-8ecb-d7bec558b944",
   "metadata": {},
   "source": [
    "## Layer Normalization"
   ]
  },
  {
   "cell_type": "code",
   "execution_count": 27,
   "id": "c9f85e7c-c460-445a-b77a-e00a721d1d5c",
   "metadata": {},
   "outputs": [
    {
     "data": {
      "text/plain": [
       "tensor([[ 0.0213, -0.9436, -1.0795],\n",
       "        [-0.0361,  1.1067, -0.6574],\n",
       "        [ 1.0809,  0.1795, -0.6091],\n",
       "        [-1.0005, -1.0290,  1.0055]])"
      ]
     },
     "execution_count": 27,
     "metadata": {},
     "output_type": "execute_result"
    }
   ],
   "source": [
    "X = torch.randn(batch_dim, d_in)\n",
    "X"
   ]
  },
  {
   "cell_type": "code",
   "execution_count": 31,
   "id": "175d9c4d-4588-48c9-be43-fadacfc359ea",
   "metadata": {},
   "outputs": [
    {
     "data": {
      "text/plain": [
       "tensor([[-0.6673],\n",
       "        [ 0.1378],\n",
       "        [ 0.2171],\n",
       "        [-0.3414]])"
      ]
     },
     "execution_count": 31,
     "metadata": {},
     "output_type": "execute_result"
    }
   ],
   "source": [
    "mean = X.mean(dim=-1, keepdim=True)\n",
    "mean"
   ]
  },
  {
   "cell_type": "code",
   "execution_count": 32,
   "id": "a9ba0522-926a-4908-b58e-5cc1b8b8a642",
   "metadata": {},
   "outputs": [
    {
     "data": {
      "text/plain": [
       "tensor([[0.3603],\n",
       "        [0.8007],\n",
       "        [0.7151],\n",
       "        [1.3607]])"
      ]
     },
     "execution_count": 32,
     "metadata": {},
     "output_type": "execute_result"
    }
   ],
   "source": [
    "var = X.var(dim=-1, keepdim=True)\n",
    "var"
   ]
  },
  {
   "cell_type": "code",
   "execution_count": 33,
   "id": "84d8e850-4988-467a-929a-53f650af5416",
   "metadata": {},
   "outputs": [],
   "source": [
    "X_norm = (X - mean) / torch.sqrt(var)"
   ]
  },
  {
   "cell_type": "code",
   "execution_count": 34,
   "id": "a01714df-4a4e-48d0-8b88-871c9bb58b17",
   "metadata": {},
   "outputs": [
    {
     "data": {
      "text/plain": [
       "tensor([[ 1.1473, -0.4605, -0.6868],\n",
       "        [-0.1943,  1.0829, -0.8886],\n",
       "        [ 1.0215, -0.0444, -0.9770],\n",
       "        [-0.5651, -0.5895,  1.1546]])"
      ]
     },
     "execution_count": 34,
     "metadata": {},
     "output_type": "execute_result"
    }
   ],
   "source": [
    "X_norm"
   ]
  },
  {
   "cell_type": "code",
   "execution_count": 35,
   "id": "18064339-dc53-491c-a50f-9a8994c3db24",
   "metadata": {},
   "outputs": [
    {
     "data": {
      "text/plain": [
       "tensor([[ 0.0000e+00],\n",
       "        [-1.9868e-08],\n",
       "        [-1.9868e-08],\n",
       "        [ 0.0000e+00]])"
      ]
     },
     "execution_count": 35,
     "metadata": {},
     "output_type": "execute_result"
    }
   ],
   "source": [
    "X_norm.mean(dim=-1, keepdim=True)"
   ]
  },
  {
   "cell_type": "code",
   "execution_count": 37,
   "id": "b149eef2-a9d7-4920-85b4-5dd926e6ec91",
   "metadata": {},
   "outputs": [
    {
     "data": {
      "text/plain": [
       "tensor([[1.0000],\n",
       "        [1.0000],\n",
       "        [1.0000],\n",
       "        [1.0000]])"
      ]
     },
     "execution_count": 37,
     "metadata": {},
     "output_type": "execute_result"
    }
   ],
   "source": [
    "X_norm.var(dim=-1, keepdim=True)"
   ]
  },
  {
   "cell_type": "code",
   "execution_count": 64,
   "id": "96b96d89-f1ff-4d1f-9c14-278f4da1056a",
   "metadata": {},
   "outputs": [],
   "source": [
    "class LayerNorm(nn.Module):\n",
    "    def __init__(self, emb_dim):\n",
    "        super().__init__()\n",
    "        self.eps = 1e-5\n",
    "        self.scale = nn.Parameter(torch.ones(emb_dim))\n",
    "        self.shift = nn.Parameter(torch.zeros(emb_dim))\n",
    "\n",
    "    def forward(self, x):\n",
    "        mean = x.mean(dim=-1, keepdim=True)\n",
    "        var = x.var(dim=-1, keepdim=True, unbiased=False)\n",
    "        norm_x = (x - mean) / torch.sqrt(var + self.eps)\n",
    "        return self.scale * norm_x + self.shift "
   ]
  },
  {
   "cell_type": "code",
   "execution_count": 67,
   "id": "8b627d36-e3c2-43d7-a47a-7eba4c7ea41b",
   "metadata": {},
   "outputs": [
    {
     "data": {
      "text/plain": [
       "tensor([[ 1.4051, -0.5639, -0.8412],\n",
       "        [-0.2380,  1.3263, -1.0883],\n",
       "        [ 1.2510, -0.0544, -1.1966],\n",
       "        [-0.6921, -0.7220,  1.4141]], grad_fn=<NativeLayerNormBackward0>)"
      ]
     },
     "execution_count": 67,
     "metadata": {},
     "output_type": "execute_result"
    }
   ],
   "source": [
    "layer_norm = nn.LayerNorm(d_in)\n",
    "layer_norm(X)"
   ]
  },
  {
   "cell_type": "code",
   "execution_count": 68,
   "id": "11343e04-7c94-4d3a-95d4-6f19590d5760",
   "metadata": {},
   "outputs": [
    {
     "data": {
      "text/plain": [
       "tensor([[1.0000],\n",
       "        [1.0000],\n",
       "        [1.0000],\n",
       "        [1.0000]], grad_fn=<VarBackward0>)"
      ]
     },
     "execution_count": 68,
     "metadata": {},
     "output_type": "execute_result"
    }
   ],
   "source": [
    "layer_norm(X).var(dim=-1, unbiased=False, keepdim=True)"
   ]
  },
  {
   "cell_type": "code",
   "execution_count": null,
   "id": "c8c0f6c9-61e0-4996-902f-5a9b9381b956",
   "metadata": {},
   "outputs": [],
   "source": []
  }
 ],
 "metadata": {
  "kernelspec": {
   "display_name": "Python 3 (ipykernel)",
   "language": "python",
   "name": "python3"
  },
  "language_info": {
   "codemirror_mode": {
    "name": "ipython",
    "version": 3
   },
   "file_extension": ".py",
   "mimetype": "text/x-python",
   "name": "python",
   "nbconvert_exporter": "python",
   "pygments_lexer": "ipython3",
   "version": "3.9.14"
  }
 },
 "nbformat": 4,
 "nbformat_minor": 5
}
