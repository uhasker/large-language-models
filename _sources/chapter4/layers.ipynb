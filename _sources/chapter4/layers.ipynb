{
 "cells": [
  {
   "cell_type": "markdown",
   "id": "b58a6447-6e2d-4b16-a7d1-f26749670255",
   "metadata": {},
   "source": [
    "# Layers"
   ]
  },
  {
   "cell_type": "markdown",
   "id": "1b2ce672-2339-48d2-be65-e08aa8a1700e",
   "metadata": {},
   "source": [
    "Import the following:"
   ]
  },
  {
   "cell_type": "code",
   "execution_count": 18,
   "id": "515c037c-db03-4667-ab85-01390a516ad2",
   "metadata": {},
   "outputs": [],
   "source": [
    "import numpy as np\n",
    "import matplotlib.pyplot as plt\n",
    "import torch\n",
    "import torch.nn as nn"
   ]
  },
  {
   "cell_type": "markdown",
   "id": "f5ce1e43-bf0f-4180-bcb5-cbacaa24bcaf",
   "metadata": {},
   "source": [
    "Apart from the basic nodes we encountered in the previous chapter, pytorch also provides a bunch of more complex *layers* located in torch.nn which encapsulate one or more nodes. Essentially you can think of such a layer as a subgraph of the computation graph."
   ]
  },
  {
   "cell_type": "markdown",
   "id": "e45b1e4b-38ea-45d7-b396-c76fce92553f",
   "metadata": {},
   "source": [
    "## Linear Layer"
   ]
  },
  {
   "cell_type": "markdown",
   "id": "5147278f-9ce8-4e2d-b83e-0fc18b6d958c",
   "metadata": {},
   "source": [
    "One of the simplest and most important layers is the linear layer. This layer takes an input tensor $\\vec{x}$ and produces an output tensor $\\vec{y} = W\\vec{x} + \\vec{b}$.\n",
    "\n",
    "Whenever you are looking at a node or a layer, it is very helpful to think about the dimensionalities of the tensors involved. Consider an example, where $\\vec{x}$ has 3 features, i.e. $\\vec{x} \\in \\mathbb{R}^{3}$. Let $\\vec{y}$ be a probability distribution over $10$ classes, i.e. $\\vec{y} \\in \\mathbb{R}^{5}$. Then we have $W \\in \\mathbb{R}^{5 \\times 3}$ and $\\vec{b} \\in \\mathbb{R}^{3}$ (otherwise the dimensions won't match).\n",
    "\n",
    "This is how the above example would look in code:"
   ]
  },
  {
   "cell_type": "code",
   "execution_count": 7,
   "id": "ed2cf848-88aa-4944-bd05-ce75e0f165a0",
   "metadata": {},
   "outputs": [],
   "source": [
    "d_in = 3\n",
    "d_out = 5\n",
    "\n",
    "x = torch.randn(d_in)\n",
    "\n",
    "layer = nn.Linear(in_features=d_in, out_features=d_out)\n",
    "y = layer(x)"
   ]
  },
  {
   "cell_type": "markdown",
   "id": "f0077bcb-c6fc-4fd1-b847-acf223b5c08b",
   "metadata": {},
   "source": [
    "Let's inspect the input vector:"
   ]
  },
  {
   "cell_type": "code",
   "execution_count": 8,
   "id": "1d93bb61-5537-44f3-a339-3ede1ce8fa9c",
   "metadata": {},
   "outputs": [
    {
     "data": {
      "text/plain": [
       "tensor([ 0.5823,  0.7132, -0.3007])"
      ]
     },
     "execution_count": 8,
     "metadata": {},
     "output_type": "execute_result"
    }
   ],
   "source": [
    "x"
   ]
  },
  {
   "cell_type": "code",
   "execution_count": 9,
   "id": "12b3a4e0-c0bb-4e14-aaa3-07fb7ef7b58c",
   "metadata": {},
   "outputs": [
    {
     "data": {
      "text/plain": [
       "torch.Size([3])"
      ]
     },
     "execution_count": 9,
     "metadata": {},
     "output_type": "execute_result"
    }
   ],
   "source": [
    "x.size()"
   ]
  },
  {
   "cell_type": "markdown",
   "id": "9a702007-db9a-45d8-95f1-d9ed2a230ce3",
   "metadata": {},
   "source": [
    "Let us also inspect the output vector:"
   ]
  },
  {
   "cell_type": "code",
   "execution_count": 11,
   "id": "057846c5-1757-4b65-aacb-736fff9d5423",
   "metadata": {},
   "outputs": [
    {
     "data": {
      "text/plain": [
       "tensor([ 0.4404,  0.3218,  0.5207, -0.8105, -0.2359], grad_fn=<AddBackward0>)"
      ]
     },
     "execution_count": 11,
     "metadata": {},
     "output_type": "execute_result"
    }
   ],
   "source": [
    "y"
   ]
  },
  {
   "cell_type": "markdown",
   "id": "eed2ee0f-2288-4a1f-9d51-b7c0871c3aab",
   "metadata": {},
   "source": [
    "Indeed we see that $W \\in \\mathbb{R}^{3 \\times 5}$ and $\\vec{b} \\in \\mathbb{R}^{5}$.\n",
    "\n",
    "Put more generally if we have an input vector $\\vec{x} \\in \\mathbb{R}^d$, the linear layer with parameters $W \\in \\mathbb{R}^{k \\times d}$ and $\\vec{b} \\in \\mathbb{R}^k$ will compute an output vector $\\vec{y} \\in \\mathbb{R}^k$. Always keep thinking about tensor dimensionalities - this is the only way to *really* understand a node or layer computation. "
   ]
  },
  {
   "cell_type": "code",
   "execution_count": 12,
   "id": "fec183a6-4bba-4640-bfab-a4e8d382f236",
   "metadata": {},
   "outputs": [
    {
     "data": {
      "text/plain": [
       "torch.Size([5])"
      ]
     },
     "execution_count": 12,
     "metadata": {},
     "output_type": "execute_result"
    }
   ],
   "source": [
    "y.size()"
   ]
  },
  {
   "cell_type": "markdown",
   "id": "00a6cdd1-05ad-4274-b7e8-156e5649fb46",
   "metadata": {},
   "source": [
    "We can also manually verify the calculations:"
   ]
  },
  {
   "cell_type": "code",
   "execution_count": 14,
   "id": "2db23ab4-f354-4da1-b3f3-b2deced4e314",
   "metadata": {},
   "outputs": [
    {
     "data": {
      "text/plain": [
       "Parameter containing:\n",
       "tensor([[-0.5517,  0.2568,  0.0783],\n",
       "        [ 0.2566, -0.1705,  0.1225],\n",
       "        [-0.3060, -0.3898, -0.2540],\n",
       "        [-0.2436, -0.0818,  0.2361],\n",
       "        [-0.2218,  0.1268,  0.2490]], requires_grad=True)"
      ]
     },
     "execution_count": 14,
     "metadata": {},
     "output_type": "execute_result"
    }
   ],
   "source": [
    "layer.weight"
   ]
  },
  {
   "cell_type": "code",
   "execution_count": 17,
   "id": "1c091fa8-5972-480c-ac3d-a31030a89e14",
   "metadata": {},
   "outputs": [
    {
     "data": {
      "text/plain": [
       "torch.Size([5, 3])"
      ]
     },
     "execution_count": 17,
     "metadata": {},
     "output_type": "execute_result"
    }
   ],
   "source": [
    "layer.weight.shape"
   ]
  },
  {
   "cell_type": "code",
   "execution_count": 15,
   "id": "dbc3745f-dc12-462c-bf41-b44430fccc3f",
   "metadata": {},
   "outputs": [
    {
     "data": {
      "text/plain": [
       "Parameter containing:\n",
       "tensor([ 0.2336,  0.0629, -0.1942, -0.0534,  0.2297], requires_grad=True)"
      ]
     },
     "execution_count": 15,
     "metadata": {},
     "output_type": "execute_result"
    }
   ],
   "source": [
    "layer.bias"
   ]
  },
  {
   "cell_type": "code",
   "execution_count": 18,
   "id": "56e6676b-265c-4c4a-9159-8c495b0af98b",
   "metadata": {},
   "outputs": [
    {
     "data": {
      "text/plain": [
       "torch.Size([5])"
      ]
     },
     "execution_count": 18,
     "metadata": {},
     "output_type": "execute_result"
    }
   ],
   "source": [
    "layer.bias.shape"
   ]
  },
  {
   "cell_type": "code",
   "execution_count": 20,
   "id": "9eee29cc-39c5-4fb6-bba7-70ab244175f0",
   "metadata": {},
   "outputs": [
    {
     "data": {
      "text/plain": [
       "tensor([-0.9730,  0.6827, -0.5636, -0.4266, -0.2361], grad_fn=<AddBackward0>)"
      ]
     },
     "execution_count": 20,
     "metadata": {},
     "output_type": "execute_result"
    }
   ],
   "source": [
    "torch.matmul(layer.weight, x) + layer.bias"
   ]
  },
  {
   "cell_type": "markdown",
   "id": "0b68c4e9-66ea-493c-b1b9-6e57aa572775",
   "metadata": {},
   "source": [
    "Note that we can pass a batch through the linear layer:"
   ]
  },
  {
   "cell_type": "code",
   "execution_count": 7,
   "id": "faa6ba17-31b0-4aab-9a7c-33969948b1c8",
   "metadata": {},
   "outputs": [],
   "source": [
    "batch_dim = 4\n",
    "\n",
    "X = torch.randn(batch_dim, d_in)\n",
    "Y = layer(X)"
   ]
  },
  {
   "cell_type": "code",
   "execution_count": 8,
   "id": "0b54c50e-0174-489d-a79d-29c40f1d635b",
   "metadata": {},
   "outputs": [
    {
     "data": {
      "text/plain": [
       "torch.Size([4, 5])"
      ]
     },
     "execution_count": 8,
     "metadata": {},
     "output_type": "execute_result"
    }
   ],
   "source": [
    "Y.shape"
   ]
  },
  {
   "cell_type": "markdown",
   "id": "0938dd4a-9040-49e2-8901-bee87d612d92",
   "metadata": {},
   "source": [
    "## Activation Functions"
   ]
  },
  {
   "cell_type": "markdown",
   "id": "c6f37211-bf83-4375-a6c4-5f55a9b2a9ad",
   "metadata": {},
   "source": [
    "Remember how we talk about *deep* learning all the time? That is because usually we have multiple layers following each other. The idea is that each layer learns progressively more complex features. For example the first layer might learn how individual words interact with each other, the second layer might look at word groups and the third layer might look at sentences. Note that this just an example - in practice the layers much more complicated features that can't be easily described (this is also one of their drawbacks). How would we go about constructing such a *deep* network?\n",
    "\n",
    "Unfortunately, we cannot just put linear layers on top of each other. Consider two linear layers, which compute $\\vec{h} = W\\vec{x} + \\vec{b}$ and $\\vec{y} = V\\vec{h} + \\vec{c}$ respectively. Then we would have $\\vec{y} = V\\vec{h} + \\vec{c} = V(W\\vec{x} + \\vec{b} + \\vec{c}) = VW\\vec{x} + V\\vec{b} + \\vec{c}$. Denote $U = VW$ and $\\vec{d} = V\\vec{b} + \\vec{c}$ and we get $\\vec{y} = U\\vec{x} + \\vec{c}$. Therefore the composition of two linear layers is again a linear layer! If you know your linear algebra, the above computation was a trivial exercise, but it reveals an important truth. We need to go beyond linearities to obtain models with rich capabilities.\n",
    "\n",
    "To solve this problem, we introduce a nonlinear *activation function* between the layers to break the linearity. That is, the first layer computes $\\vec{h} = f(W\\vec{x} + \\vec{b})$ (where $f$ works elementwise). The composition will no longer be a linear layer.\n",
    "\n",
    "Now we need to actually define the activation function. We could use the sigmoid from chapter 2. However this function has a problem which we can see if we look at the graph of its derivative:"
   ]
  },
  {
   "cell_type": "code",
   "execution_count": 20,
   "id": "d724afc2-b707-42a2-ae39-3a2bacce2ce9",
   "metadata": {},
   "outputs": [
    {
     "data": {
      "text/plain": [
       "[<matplotlib.lines.Line2D at 0x7d8accf58ca0>]"
      ]
     },
     "execution_count": 20,
     "metadata": {},
     "output_type": "execute_result"
    },
    {
     "data": {
      "image/png": "[encoded data removed]",
      "text/plain": [
       "<Figure size 640x480 with 1 Axes>"
      ]
     },
     "metadata": {},
     "output_type": "display_data"
    }
   ],
   "source": [
    "sigmoid_derivative_xs = np.arange(-10, 10, 0.01)\n",
    "sigmoid_derivative_ys = np.exp(-sigmoid_derivative_xs) / (1 + np.exp(-sigmoid_derivative_xs) ** 2)\n",
    "plt.plot(sigmoid_derivative_xs, sigmoid_derivative_ys)"
   ]
  },
  {
   "cell_type": "markdown",
   "id": "652f6f73-6a95-4fae-bb57-78455d728dc4",
   "metadata": {},
   "source": [
    "The derivative of the sigmoid function is very close to $0$ outside of a relatively small input range. Why is this a problem? Let us say that during backpropagation the sigmoid node gets a derivative $\\frac{\\partial L}{\\partial y}$. It will then backpropagate the derivative $\\frac{\\partial L}{\\partial z} = \\frac{\\partial L}{\\partial y} \\frac{\\partial y}{\\partial z}$. But since $\\frac{\\partial y}{\\partial z}$ will be approximately $0$, the derivative $\\frac{\\partial L}{\\partial z}$ will be approximately $0$ as well. The derivative (and therefore the error signal) will be lost.\n",
    "\n",
    "Just as a side note, the above explanation is one of the reasons why it so important to actually understand what backpropagation does on a technical level even though you will probably never need to implement it. It would be very hard to grasp why sigmoids are a bad idea for activation functions unless you have the technical understanding. This is not the last time we will encounter a problem that has its root in the way backpropagation works.\n",
    "\n",
    "Executive summary - we need a different activation function that does not have such a small \"good\" range of inputs. A very simple way to address this is to simply take the identity function and cut off half the input range resulting in $\\max(0, x)$:"
   ]
  },
  {
   "cell_type": "code",
   "execution_count": 21,
   "id": "d2e616a7-7ae1-4833-81e0-b36741b11766",
   "metadata": {},
   "outputs": [
    {
     "data": {
      "text/plain": [
       "[<matplotlib.lines.Line2D at 0x7d8accece580>]"
      ]
     },
     "execution_count": 21,
     "metadata": {},
     "output_type": "execute_result"
    },
    {
     "data": {
      "image/png": "[encoded data removed]",
      "text/plain": [
       "<Figure size 640x480 with 1 Axes>"
      ]
     },
     "metadata": {},
     "output_type": "display_data"
    }
   ],
   "source": [
    "relu_xs = np.arange(-10, 10, 0.01)\n",
    "relu_ys = np.maximum(0, relu_xs)\n",
    "plt.plot(relu_xs, relu_ys)"
   ]
  },
  {
   "cell_type": "markdown",
   "id": "11c75a6a-8994-4d3e-bc10-8e05413bdab6",
   "metadata": {},
   "source": [
    "The derivative is $0$ if $x < 0$ and $1$ if $x > 0$. We still lose half the input range, but the crucial point is that as long as $x > 0$ we are fine. Interestingly this function is not called the \"most lazy activation possible\" but has the fancy name **Rectified Linear Unit** (ReLU for short). Not only is this function very ~~lazy~~ simple, but it works extremely well in practice. So well in fact, that it is the default activation function people go with when creating neural networks. It is hard to overstate how much ReLU is used in deep learning nowadays."
   ]
  },
  {
   "cell_type": "markdown",
   "id": "8b890a1f-3a19-4900-84f0-52284f025817",
   "metadata": {},
   "source": [
    "## Dropout Layer"
   ]
  },
  {
   "cell_type": "markdown",
   "id": "5bd5827a-ee2b-4799-bee0-117513a1238f",
   "metadata": {},
   "source": [
    "The dropout layer randomly zeroes some of the elements of the input tensor with probability `p`. This can be used to prevent overfitting:"
   ]
  },
  {
   "cell_type": "code",
   "execution_count": 22,
   "id": "ca039316-adb9-4c37-90b4-8793c658fc06",
   "metadata": {},
   "outputs": [
    {
     "data": {
      "text/plain": [
       "tensor([ 2.9677, -2.7410,  0.4559])"
      ]
     },
     "execution_count": 22,
     "metadata": {},
     "output_type": "execute_result"
    }
   ],
   "source": [
    "dropout_layer = nn.Dropout(p=0.5)\n",
    "\n",
    "x = torch.randn(d_in)\n",
    "x"
   ]
  },
  {
   "cell_type": "code",
   "execution_count": 24,
   "id": "cc11541f-f692-44e7-961c-69c653952221",
   "metadata": {},
   "outputs": [
    {
     "data": {
      "text/plain": [
       "tensor([5.9355, -0.0000, 0.0000])"
      ]
     },
     "execution_count": 24,
     "metadata": {},
     "output_type": "execute_result"
    }
   ],
   "source": [
    "dropout_layer(x)"
   ]
  },
  {
   "cell_type": "code",
   "execution_count": 25,
   "id": "78f55126-aa37-4a8c-b2ea-0bca7f178666",
   "metadata": {},
   "outputs": [
    {
     "data": {
      "text/plain": [
       "tensor([[-0.6034, -1.3383, -1.0745],\n",
       "        [ 0.0970,  1.1263,  1.3107],\n",
       "        [ 0.5935,  1.6124, -0.3863],\n",
       "        [-0.2381,  0.3930,  0.3202]])"
      ]
     },
     "execution_count": 25,
     "metadata": {},
     "output_type": "execute_result"
    }
   ],
   "source": [
    "X = torch.randn(batch_dim, d_in)\n",
    "X"
   ]
  },
  {
   "cell_type": "code",
   "execution_count": 26,
   "id": "86efb67f-09e1-4fb8-9ba4-61acec313ed0",
   "metadata": {},
   "outputs": [
    {
     "data": {
      "text/plain": [
       "tensor([[-0.0000, -0.0000, -2.1490],\n",
       "        [ 0.1939,  2.2525,  2.6215],\n",
       "        [ 1.1871,  0.0000, -0.0000],\n",
       "        [-0.0000,  0.0000,  0.6404]])"
      ]
     },
     "execution_count": 26,
     "metadata": {},
     "output_type": "execute_result"
    }
   ],
   "source": [
    "dropout_layer(X)"
   ]
  },
  {
   "cell_type": "markdown",
   "id": "de0f7fa1-c18b-44bb-8ecb-d7bec558b944",
   "metadata": {},
   "source": [
    "## Layer Normalization"
   ]
  },
  {
   "cell_type": "markdown",
   "id": "c9093539-3f5f-4a54-b2e8-05af3982035f",
   "metadata": {},
   "source": [
    "Layer normalization helps stabilize training:"
   ]
  },
  {
   "cell_type": "code",
   "execution_count": 27,
   "id": "c9f85e7c-c460-445a-b77a-e00a721d1d5c",
   "metadata": {},
   "outputs": [
    {
     "data": {
      "text/plain": [
       "tensor([[ 0.0213, -0.9436, -1.0795],\n",
       "        [-0.0361,  1.1067, -0.6574],\n",
       "        [ 1.0809,  0.1795, -0.6091],\n",
       "        [-1.0005, -1.0290,  1.0055]])"
      ]
     },
     "execution_count": 27,
     "metadata": {},
     "output_type": "execute_result"
    }
   ],
   "source": [
    "X = torch.randn(batch_dim, d_in)\n",
    "X"
   ]
  },
  {
   "cell_type": "code",
   "execution_count": 31,
   "id": "175d9c4d-4588-48c9-be43-fadacfc359ea",
   "metadata": {},
   "outputs": [
    {
     "data": {
      "text/plain": [
       "tensor([[-0.6673],\n",
       "        [ 0.1378],\n",
       "        [ 0.2171],\n",
       "        [-0.3414]])"
      ]
     },
     "execution_count": 31,
     "metadata": {},
     "output_type": "execute_result"
    }
   ],
   "source": [
    "mean = X.mean(dim=-1, keepdim=True)\n",
    "mean"
   ]
  },
  {
   "cell_type": "code",
   "execution_count": 32,
   "id": "a9ba0522-926a-4908-b58e-5cc1b8b8a642",
   "metadata": {},
   "outputs": [
    {
     "data": {
      "text/plain": [
       "tensor([[0.3603],\n",
       "        [0.8007],\n",
       "        [0.7151],\n",
       "        [1.3607]])"
      ]
     },
     "execution_count": 32,
     "metadata": {},
     "output_type": "execute_result"
    }
   ],
   "source": [
    "var = X.var(dim=-1, keepdim=True)\n",
    "var"
   ]
  },
  {
   "cell_type": "code",
   "execution_count": 33,
   "id": "84d8e850-4988-467a-929a-53f650af5416",
   "metadata": {},
   "outputs": [],
   "source": [
    "X_norm = (X - mean) / torch.sqrt(var)"
   ]
  },
  {
   "cell_type": "code",
   "execution_count": 34,
   "id": "a01714df-4a4e-48d0-8b88-871c9bb58b17",
   "metadata": {},
   "outputs": [
    {
     "data": {
      "text/plain": [
       "tensor([[ 1.1473, -0.4605, -0.6868],\n",
       "        [-0.1943,  1.0829, -0.8886],\n",
       "        [ 1.0215, -0.0444, -0.9770],\n",
       "        [-0.5651, -0.5895,  1.1546]])"
      ]
     },
     "execution_count": 34,
     "metadata": {},
     "output_type": "execute_result"
    }
   ],
   "source": [
    "X_norm"
   ]
  },
  {
   "cell_type": "code",
   "execution_count": 35,
   "id": "18064339-dc53-491c-a50f-9a8994c3db24",
   "metadata": {},
   "outputs": [
    {
     "data": {
      "text/plain": [
       "tensor([[ 0.0000e+00],\n",
       "        [-1.9868e-08],\n",
       "        [-1.9868e-08],\n",
       "        [ 0.0000e+00]])"
      ]
     },
     "execution_count": 35,
     "metadata": {},
     "output_type": "execute_result"
    }
   ],
   "source": [
    "X_norm.mean(dim=-1, keepdim=True)"
   ]
  },
  {
   "cell_type": "code",
   "execution_count": 37,
   "id": "b149eef2-a9d7-4920-85b4-5dd926e6ec91",
   "metadata": {},
   "outputs": [
    {
     "data": {
      "text/plain": [
       "tensor([[1.0000],\n",
       "        [1.0000],\n",
       "        [1.0000],\n",
       "        [1.0000]])"
      ]
     },
     "execution_count": 37,
     "metadata": {},
     "output_type": "execute_result"
    }
   ],
   "source": [
    "X_norm.var(dim=-1, keepdim=True)"
   ]
  },
  {
   "cell_type": "code",
   "execution_count": 64,
   "id": "96b96d89-f1ff-4d1f-9c14-278f4da1056a",
   "metadata": {},
   "outputs": [],
   "source": [
    "class LayerNorm(nn.Module):\n",
    "    def __init__(self, emb_dim):\n",
    "        super().__init__()\n",
    "        self.eps = 1e-5\n",
    "        self.scale = nn.Parameter(torch.ones(emb_dim))\n",
    "        self.shift = nn.Parameter(torch.zeros(emb_dim))\n",
    "\n",
    "    def forward(self, x):\n",
    "        mean = x.mean(dim=-1, keepdim=True)\n",
    "        var = x.var(dim=-1, keepdim=True, unbiased=False)\n",
    "        norm_x = (x - mean) / torch.sqrt(var + self.eps)\n",
    "        return self.scale * norm_x + self.shift "
   ]
  },
  {
   "cell_type": "code",
   "execution_count": 67,
   "id": "8b627d36-e3c2-43d7-a47a-7eba4c7ea41b",
   "metadata": {},
   "outputs": [
    {
     "data": {
      "text/plain": [
       "tensor([[ 1.4051, -0.5639, -0.8412],\n",
       "        [-0.2380,  1.3263, -1.0883],\n",
       "        [ 1.2510, -0.0544, -1.1966],\n",
       "        [-0.6921, -0.7220,  1.4141]], grad_fn=<NativeLayerNormBackward0>)"
      ]
     },
     "execution_count": 67,
     "metadata": {},
     "output_type": "execute_result"
    }
   ],
   "source": [
    "layer_norm = nn.LayerNorm(d_in)\n",
    "layer_norm(X)"
   ]
  },
  {
   "cell_type": "code",
   "execution_count": 68,
   "id": "11343e04-7c94-4d3a-95d4-6f19590d5760",
   "metadata": {},
   "outputs": [
    {
     "data": {
      "text/plain": [
       "tensor([[1.0000],\n",
       "        [1.0000],\n",
       "        [1.0000],\n",
       "        [1.0000]], grad_fn=<VarBackward0>)"
      ]
     },
     "execution_count": 68,
     "metadata": {},
     "output_type": "execute_result"
    }
   ],
   "source": [
    "layer_norm(X).var(dim=-1, unbiased=False, keepdim=True)"
   ]
  },
  {
   "cell_type": "code",
   "execution_count": null,
   "id": "c8c0f6c9-61e0-4996-902f-5a9b9381b956",
   "metadata": {},
   "outputs": [],
   "source": []
  }
 ],
 "metadata": {
  "kernelspec": {
   "display_name": "Python 3 (ipykernel)",
   "language": "python",
   "name": "python3"
  },
  "language_info": {
   "codemirror_mode": {
    "name": "ipython",
    "version": 3
   },
   "file_extension": ".py",
   "mimetype": "text/x-python",
   "name": "python",
   "nbconvert_exporter": "python",
   "pygments_lexer": "ipython3",
   "version": "3.9.14"
  }
 },
 "nbformat": 4,
 "nbformat_minor": 5
}
