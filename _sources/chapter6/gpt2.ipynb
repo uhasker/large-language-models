{
 "cells": [
  {
   "cell_type": "markdown",
   "id": "14a17b97-5311-4fb4-806f-9290c7d549a8",
   "metadata": {},
   "source": [
    "# Deep Dive Into GPT-2"
   ]
  },
  {
   "cell_type": "code",
   "execution_count": 23,
   "id": "e2b8fce5-619c-45ea-b7af-468348a6ea67",
   "metadata": {},
   "outputs": [],
   "source": [
    "import torch\n",
    "\n",
    "from transformers import GPT2Tokenizer, GPT2Model"
   ]
  },
  {
   "cell_type": "markdown",
   "id": "bbb8cf6d-e4e7-472c-9bdd-b3ba2b9294be",
   "metadata": {},
   "source": [
    "## Loading the Model"
   ]
  },
  {
   "cell_type": "code",
   "execution_count": 2,
   "id": "138676bf-9343-4dee-8217-2cf69b9e6adb",
   "metadata": {},
   "outputs": [],
   "source": [
    "tokenizer = GPT2Tokenizer.from_pretrained('gpt2')\n",
    "model = GPT2Model.from_pretrained('gpt2')"
   ]
  },
  {
   "cell_type": "code",
   "execution_count": 4,
   "id": "b425f42b-905c-4f2d-ac14-53c3b4e7fe79",
   "metadata": {},
   "outputs": [],
   "source": [
    "text = \"This is an example sentence\""
   ]
  },
  {
   "cell_type": "code",
   "execution_count": 7,
   "id": "6b82f10d-16a0-42b8-a0a0-d76dab57f355",
   "metadata": {},
   "outputs": [
    {
     "data": {
      "text/plain": [
       "{'input_ids': tensor([[1212,  318,  281, 1672, 6827]]), 'attention_mask': tensor([[1, 1, 1, 1, 1]])}"
      ]
     },
     "execution_count": 7,
     "metadata": {},
     "output_type": "execute_result"
    }
   ],
   "source": [
    "encoded_input = tokenizer(text, return_tensors='pt')\n",
    "encoded_input"
   ]
  },
  {
   "cell_type": "code",
   "execution_count": 9,
   "id": "bf8ba4d2-c7a4-4f32-9c62-4b33f1baac82",
   "metadata": {},
   "outputs": [],
   "source": [
    "output = model(**encoded_input)"
   ]
  },
  {
   "cell_type": "code",
   "execution_count": 12,
   "id": "53fc6dde-ee49-47ee-8c6e-61e201b324a2",
   "metadata": {},
   "outputs": [
    {
     "data": {
      "text/plain": [
       "transformers.modeling_outputs.BaseModelOutputWithPastAndCrossAttentions"
      ]
     },
     "execution_count": 12,
     "metadata": {},
     "output_type": "execute_result"
    }
   ],
   "source": [
    "type(output)"
   ]
  },
  {
   "cell_type": "code",
   "execution_count": 15,
   "id": "7262fa95-4bfa-4793-8f2c-a5b2a5d22bd1",
   "metadata": {},
   "outputs": [
    {
     "data": {
      "text/plain": [
       "torch.Size([1, 5, 768])"
      ]
     },
     "execution_count": 15,
     "metadata": {},
     "output_type": "execute_result"
    }
   ],
   "source": [
    "output.last_hidden_state.shape"
   ]
  },
  {
   "cell_type": "code",
   "execution_count": 180,
   "id": "1ada2b0c-506f-41f2-99a8-3bbdcfc194ae",
   "metadata": {},
   "outputs": [
    {
     "data": {
      "text/plain": [
       "tensor([[[ 0.0530, -0.0137, -0.2393,  ..., -0.1245, -0.1116,  0.0225],\n",
       "         [ 0.2470,  0.2260,  0.0397,  ...,  0.2413,  0.4349,  0.1768],\n",
       "         [ 0.7483, -0.4052, -0.9382,  ...,  0.3646, -0.0287,  0.3722],\n",
       "         [ 0.1990, -0.3695, -1.8210,  ..., -0.1772,  0.0093,  0.1647],\n",
       "         [ 0.0704, -0.0537, -2.5189,  ...,  0.0582, -0.1217, -0.3843]]],\n",
       "       grad_fn=<ViewBackward0>)"
      ]
     },
     "execution_count": 180,
     "metadata": {},
     "output_type": "execute_result"
    }
   ],
   "source": [
    "output.last_hidden_state"
   ]
  },
  {
   "cell_type": "markdown",
   "id": "be8e604f-373f-4a6a-a93d-9ac108debabd",
   "metadata": {},
   "source": [
    "## Embeddings"
   ]
  },
  {
   "cell_type": "code",
   "execution_count": 17,
   "id": "aa499601-7eaa-4da7-a094-27104698ce93",
   "metadata": {},
   "outputs": [],
   "source": [
    "input_ids = encoded_input[\"input_ids\"]\n",
    "attention_mask = encoded_input[\"attention_mask\"]"
   ]
  },
  {
   "cell_type": "code",
   "execution_count": 19,
   "id": "94223803-7a83-4e14-bdf7-90f132b901b6",
   "metadata": {},
   "outputs": [
    {
     "data": {
      "text/plain": [
       "tensor([[1212,  318,  281, 1672, 6827]])"
      ]
     },
     "execution_count": 19,
     "metadata": {},
     "output_type": "execute_result"
    }
   ],
   "source": [
    "input_ids"
   ]
  },
  {
   "cell_type": "code",
   "execution_count": 21,
   "id": "ef34bb0d-0f1e-4b96-9be2-9a2ea91fb795",
   "metadata": {},
   "outputs": [
    {
     "data": {
      "text/plain": [
       "tensor([[1, 1, 1, 1, 1]])"
      ]
     },
     "execution_count": 21,
     "metadata": {},
     "output_type": "execute_result"
    }
   ],
   "source": [
    "attention_mask"
   ]
  },
  {
   "cell_type": "markdown",
   "id": "187b2b7b-927e-43c0-99c1-3084d9d6d83e",
   "metadata": {},
   "source": [
    "Generate the position IDs:"
   ]
  },
  {
   "cell_type": "code",
   "execution_count": 24,
   "id": "36545f28-0536-4263-a8f7-3c200bc51160",
   "metadata": {},
   "outputs": [],
   "source": [
    "position_ids = torch.tensor([[0, 1, 2, 3, 4]], dtype=torch.long)"
   ]
  },
  {
   "cell_type": "markdown",
   "id": "87a96068-ec39-4dbc-9f00-68d2608520b4",
   "metadata": {},
   "source": [
    "Get the token embeddings:"
   ]
  },
  {
   "cell_type": "code",
   "execution_count": 25,
   "id": "740afc58-28e8-4d39-bd8e-e9aece6950f9",
   "metadata": {},
   "outputs": [
    {
     "data": {
      "text/plain": [
       "Embedding(50257, 768)"
      ]
     },
     "execution_count": 25,
     "metadata": {},
     "output_type": "execute_result"
    }
   ],
   "source": [
    "model.wte"
   ]
  },
  {
   "cell_type": "code",
   "execution_count": 27,
   "id": "20346315-9f21-41ed-8975-92252d608559",
   "metadata": {},
   "outputs": [
    {
     "data": {
      "text/plain": [
       "tensor([[[ 0.0253, -0.0956,  0.0721,  ...,  0.0615, -0.0558,  0.1093],\n",
       "         [-0.0097,  0.0101,  0.0556,  ...,  0.1145, -0.0380, -0.0254],\n",
       "         [-0.0870, -0.0117,  0.0687,  ...,  0.0332,  0.0562, -0.0843],\n",
       "         [ 0.0716, -0.1287,  0.0815,  ..., -0.3787, -0.0285, -0.1234],\n",
       "         [-0.0964, -0.0075,  0.0396,  ..., -0.2623, -0.0469, -0.1976]]],\n",
       "       grad_fn=<EmbeddingBackward0>)"
      ]
     },
     "execution_count": 27,
     "metadata": {},
     "output_type": "execute_result"
    }
   ],
   "source": [
    "input_embeds = model.wte(input_ids)\n",
    "input_embeds"
   ]
  },
  {
   "cell_type": "code",
   "execution_count": 31,
   "id": "3a34728e-6bdb-4983-a262-9a1cbc6a842e",
   "metadata": {},
   "outputs": [
    {
     "data": {
      "text/plain": [
       "torch.Size([1, 5, 768])"
      ]
     },
     "execution_count": 31,
     "metadata": {},
     "output_type": "execute_result"
    }
   ],
   "source": [
    "input_embeds.shape"
   ]
  },
  {
   "cell_type": "markdown",
   "id": "4fee8bfb-7559-4d34-abaa-a195d8414bb0",
   "metadata": {},
   "source": [
    "Generate the position embeddings:"
   ]
  },
  {
   "cell_type": "code",
   "execution_count": 138,
   "id": "7e010997-ec76-4d3d-bea9-704862e44c0d",
   "metadata": {},
   "outputs": [
    {
     "data": {
      "text/plain": [
       "tensor([[[-1.8821e-02, -1.9742e-01,  4.0267e-03,  ..., -4.3044e-02,\n",
       "           2.8267e-02,  5.4490e-02],\n",
       "         [ 2.3959e-02, -5.3792e-02, -9.4879e-02,  ...,  3.4170e-02,\n",
       "           1.0172e-02, -1.5573e-04],\n",
       "         [ 4.2161e-03, -8.4764e-02,  5.4515e-02,  ...,  1.9745e-02,\n",
       "           1.9325e-02, -2.1424e-02],\n",
       "         [-2.8337e-04, -7.3803e-02,  1.0553e-01,  ...,  1.0157e-02,\n",
       "           1.7659e-02, -7.0854e-03],\n",
       "         [ 7.6374e-03, -2.5090e-02,  1.2696e-01,  ...,  8.4643e-03,\n",
       "           9.8542e-03, -7.0117e-03]]], grad_fn=<EmbeddingBackward0>)"
      ]
     },
     "execution_count": 138,
     "metadata": {},
     "output_type": "execute_result"
    }
   ],
   "source": [
    "position_embeds = model.wpe(position_ids)\n",
    "position_embeds"
   ]
  },
  {
   "cell_type": "code",
   "execution_count": 139,
   "id": "c6130025-2a5a-4975-a3cb-f61c3516d582",
   "metadata": {},
   "outputs": [
    {
     "data": {
      "text/plain": [
       "torch.Size([1, 5, 768])"
      ]
     },
     "execution_count": 139,
     "metadata": {},
     "output_type": "execute_result"
    }
   ],
   "source": [
    "position_embeds.shape"
   ]
  },
  {
   "cell_type": "code",
   "execution_count": 140,
   "id": "15cbff8c-1b4d-4b9d-925a-fe68a7a2bbb1",
   "metadata": {},
   "outputs": [
    {
     "data": {
      "text/plain": [
       "tensor([[[ 0.0065, -0.2930,  0.0762,  ...,  0.0184, -0.0275,  0.1638],\n",
       "         [ 0.0142, -0.0437, -0.0393,  ...,  0.1487, -0.0278, -0.0255],\n",
       "         [-0.0828, -0.0964,  0.1232,  ...,  0.0530,  0.0755, -0.1057],\n",
       "         [ 0.0714, -0.2025,  0.1870,  ..., -0.3685, -0.0108, -0.1304],\n",
       "         [-0.0888, -0.0326,  0.1666,  ..., -0.2539, -0.0370, -0.2046]]],\n",
       "       grad_fn=<AddBackward0>)"
      ]
     },
     "execution_count": 140,
     "metadata": {},
     "output_type": "execute_result"
    }
   ],
   "source": [
    "hidden_states = input_embeds + position_embeds\n",
    "hidden_states"
   ]
  },
  {
   "cell_type": "code",
   "execution_count": 141,
   "id": "3da75969-8ce3-447f-9218-bf7fc17adfe3",
   "metadata": {},
   "outputs": [
    {
     "data": {
      "text/plain": [
       "torch.Size([1, 5, 768])"
      ]
     },
     "execution_count": 141,
     "metadata": {},
     "output_type": "execute_result"
    }
   ],
   "source": [
    "hidden_states.shape"
   ]
  },
  {
   "cell_type": "markdown",
   "id": "208fe52a-302b-4dee-9947-9e4918587e0e",
   "metadata": {},
   "source": [
    "## The First GPT2 Block"
   ]
  },
  {
   "cell_type": "code",
   "execution_count": 142,
   "id": "c591be4e-fd17-4a5c-b5cc-065ad0615cf3",
   "metadata": {},
   "outputs": [],
   "source": [
    "residual = hidden_states"
   ]
  },
  {
   "cell_type": "code",
   "execution_count": 143,
   "id": "bb602121-e300-41c0-b203-2586d395f12a",
   "metadata": {},
   "outputs": [
    {
     "data": {
      "text/plain": [
       "ModuleList(\n",
       "  (0-11): 12 x GPT2Block(\n",
       "    (ln_1): LayerNorm((768,), eps=1e-05, elementwise_affine=True)\n",
       "    (attn): GPT2Attention(\n",
       "      (c_attn): Conv1D()\n",
       "      (c_proj): Conv1D()\n",
       "      (attn_dropout): Dropout(p=0.1, inplace=False)\n",
       "      (resid_dropout): Dropout(p=0.1, inplace=False)\n",
       "    )\n",
       "    (ln_2): LayerNorm((768,), eps=1e-05, elementwise_affine=True)\n",
       "    (mlp): GPT2MLP(\n",
       "      (c_fc): Conv1D()\n",
       "      (c_proj): Conv1D()\n",
       "      (act): NewGELUActivation()\n",
       "      (dropout): Dropout(p=0.1, inplace=False)\n",
       "    )\n",
       "  )\n",
       ")"
      ]
     },
     "execution_count": 143,
     "metadata": {},
     "output_type": "execute_result"
    }
   ],
   "source": [
    "layer_blocks = model.h\n",
    "layer_blocks"
   ]
  },
  {
   "cell_type": "code",
   "execution_count": 144,
   "id": "15b61950-2dd1-4fb2-b046-35cdccbd366a",
   "metadata": {},
   "outputs": [
    {
     "data": {
      "text/plain": [
       "GPT2Block(\n",
       "  (ln_1): LayerNorm((768,), eps=1e-05, elementwise_affine=True)\n",
       "  (attn): GPT2Attention(\n",
       "    (c_attn): Conv1D()\n",
       "    (c_proj): Conv1D()\n",
       "    (attn_dropout): Dropout(p=0.1, inplace=False)\n",
       "    (resid_dropout): Dropout(p=0.1, inplace=False)\n",
       "  )\n",
       "  (ln_2): LayerNorm((768,), eps=1e-05, elementwise_affine=True)\n",
       "  (mlp): GPT2MLP(\n",
       "    (c_fc): Conv1D()\n",
       "    (c_proj): Conv1D()\n",
       "    (act): NewGELUActivation()\n",
       "    (dropout): Dropout(p=0.1, inplace=False)\n",
       "  )\n",
       ")"
      ]
     },
     "execution_count": 144,
     "metadata": {},
     "output_type": "execute_result"
    }
   ],
   "source": [
    "layer_block = layer_blocks[0]\n",
    "layer_block"
   ]
  },
  {
   "cell_type": "code",
   "execution_count": 145,
   "id": "2b1430d9-e39e-4a81-937a-8b1f544f4a0e",
   "metadata": {},
   "outputs": [
    {
     "data": {
      "text/plain": [
       "tensor([[[ 0.0046, -0.1147, -0.0292,  ...,  0.0021, -0.0244,  0.0727],\n",
       "         [ 0.0150, -0.0088, -0.0911,  ...,  0.1287, -0.0362, -0.0365],\n",
       "         [-0.0984, -0.0632,  0.0386,  ...,  0.0452,  0.0617, -0.1194],\n",
       "         [ 0.0778, -0.1550,  0.0805,  ..., -0.3588, -0.0225, -0.1376],\n",
       "         [-0.1005, -0.0005,  0.0658,  ..., -0.2506, -0.0460, -0.2082]]],\n",
       "       grad_fn=<NativeLayerNormBackward0>)"
      ]
     },
     "execution_count": 145,
     "metadata": {},
     "output_type": "execute_result"
    }
   ],
   "source": [
    "hidden_states = layer_block.ln_1(hidden_states)\n",
    "hidden_states"
   ]
  },
  {
   "cell_type": "code",
   "execution_count": 146,
   "id": "43d39c1a-eb64-4bc3-aa34-9b0470ce458a",
   "metadata": {},
   "outputs": [
    {
     "data": {
      "text/plain": [
       "Conv1D()"
      ]
     },
     "execution_count": 146,
     "metadata": {},
     "output_type": "execute_result"
    }
   ],
   "source": [
    "layer_block.attn.c_attn"
   ]
  },
  {
   "cell_type": "code",
   "execution_count": 147,
   "id": "51e5abed-b6ee-4c9e-b9e1-43374da7d332",
   "metadata": {},
   "outputs": [
    {
     "data": {
      "text/plain": [
       "tensor([[[-0.0294, -0.6518,  0.5181,  ...,  0.0770, -0.2688, -0.0985],\n",
       "         [ 0.4271,  0.1531,  0.2167,  ...,  0.1749,  0.3729,  0.1266],\n",
       "         [ 0.8352, -0.3577,  0.6788,  ...,  0.1482,  0.0685, -0.0751],\n",
       "         [-0.1062,  0.6817,  0.4614,  ...,  0.0410,  0.1327, -0.1493],\n",
       "         [ 1.2036,  0.5522, -0.8434,  ...,  0.0273, -0.2853, -0.1288]]],\n",
       "       grad_fn=<ViewBackward0>)"
      ]
     },
     "execution_count": 147,
     "metadata": {},
     "output_type": "execute_result"
    }
   ],
   "source": [
    "query_key_value = layer_block.attn.c_attn(hidden_states)\n",
    "query_key_value"
   ]
  },
  {
   "cell_type": "code",
   "execution_count": 148,
   "id": "4bd9b166-a7b2-4525-9174-50dc35d184d2",
   "metadata": {},
   "outputs": [
    {
     "data": {
      "text/plain": [
       "torch.Size([1, 5, 2304])"
      ]
     },
     "execution_count": 148,
     "metadata": {},
     "output_type": "execute_result"
    }
   ],
   "source": [
    "query_key_value.shape"
   ]
  },
  {
   "cell_type": "code",
   "execution_count": 149,
   "id": "d17e8c41-9b93-430e-a762-b00cbdfdf1e3",
   "metadata": {},
   "outputs": [],
   "source": [
    "query, key, value = query_key_value.split(768, dim=2)"
   ]
  },
  {
   "cell_type": "code",
   "execution_count": 150,
   "id": "acaa6fcb-0abe-4ce4-b4ce-e74470ce92a3",
   "metadata": {},
   "outputs": [
    {
     "data": {
      "text/plain": [
       "(torch.Size([1, 5, 768]), torch.Size([1, 5, 768]), torch.Size([1, 5, 768]))"
      ]
     },
     "execution_count": 150,
     "metadata": {},
     "output_type": "execute_result"
    }
   ],
   "source": [
    "query.shape, key.shape, value.shape"
   ]
  },
  {
   "cell_type": "code",
   "execution_count": 151,
   "id": "e465275a-2088-41f8-89a3-1f425dacf26c",
   "metadata": {},
   "outputs": [
    {
     "data": {
      "text/plain": [
       "tensor([[[-0.0294, -0.6518,  0.5181,  ..., -1.0025, -0.2499, -0.4812],\n",
       "         [ 0.4271,  0.1531,  0.2167,  ..., -0.0248, -1.6700, -0.7407],\n",
       "         [ 0.8352, -0.3577,  0.6788,  ..., -0.3742, -1.5068, -1.0755],\n",
       "         [-0.1062,  0.6817,  0.4614,  ..., -0.6008, -1.8102, -1.0448],\n",
       "         [ 1.2036,  0.5522, -0.8434,  ..., -0.4750, -1.2292, -0.1971]]],\n",
       "       grad_fn=<SplitBackward0>)"
      ]
     },
     "execution_count": 151,
     "metadata": {},
     "output_type": "execute_result"
    }
   ],
   "source": [
    "query"
   ]
  },
  {
   "cell_type": "code",
   "execution_count": 152,
   "id": "a2dc1127-048f-4831-a046-86cbe6772398",
   "metadata": {},
   "outputs": [
    {
     "data": {
      "text/plain": [
       "tensor([[[-0.9706,  1.6740,  0.9128,  ..., -0.5452,  0.3212,  1.5770],\n",
       "         [-1.8348,  2.4955,  1.7497,  ...,  0.7098,  0.5259,  1.7975],\n",
       "         [-2.2065,  2.8389,  1.6342,  ..., -0.0561,  0.5616,  1.4394],\n",
       "         [-2.0450,  1.9159,  2.1838,  ..., -0.0274,  0.2950,  0.9735],\n",
       "         [-2.9504,  3.0648,  1.9827,  ..., -0.6849,  0.1057,  0.8111]]],\n",
       "       grad_fn=<SplitBackward0>)"
      ]
     },
     "execution_count": 152,
     "metadata": {},
     "output_type": "execute_result"
    }
   ],
   "source": [
    "key"
   ]
  },
  {
   "cell_type": "code",
   "execution_count": 153,
   "id": "4a3bb990-7225-4ee0-a60c-9e8721e52333",
   "metadata": {},
   "outputs": [
    {
     "data": {
      "text/plain": [
       "tensor([[[ 0.1759,  0.0996,  0.1026,  ...,  0.0770, -0.2688, -0.0985],\n",
       "         [ 0.2320, -0.2386,  0.2946,  ...,  0.1749,  0.3729,  0.1266],\n",
       "         [ 0.0950, -0.0382,  0.0530,  ...,  0.1482,  0.0685, -0.0751],\n",
       "         [-0.0951, -0.0121, -0.2828,  ...,  0.0410,  0.1327, -0.1493],\n",
       "         [-0.4495, -0.3067,  0.2846,  ...,  0.0273, -0.2853, -0.1288]]],\n",
       "       grad_fn=<SplitBackward0>)"
      ]
     },
     "execution_count": 153,
     "metadata": {},
     "output_type": "execute_result"
    }
   ],
   "source": [
    "value"
   ]
  },
  {
   "cell_type": "code",
   "execution_count": 154,
   "id": "d4e4b0d8-b22f-46b0-a918-d7131deaa53a",
   "metadata": {},
   "outputs": [
    {
     "data": {
      "text/plain": [
       "(torch.Size([1, 12, 5, 64]),\n",
       " torch.Size([1, 12, 5, 64]),\n",
       " torch.Size([1, 12, 5, 64]))"
      ]
     },
     "execution_count": 154,
     "metadata": {},
     "output_type": "execute_result"
    }
   ],
   "source": [
    "num_heads = 12\n",
    "head_dim = 64\n",
    "query = layer_block.attn._split_heads(query, num_heads, head_dim)\n",
    "key = layer_block.attn._split_heads(key, num_heads, head_dim)\n",
    "value = layer_block.attn._split_heads(value, num_heads, head_dim)\n",
    "query.shape, key.shape, value.shape"
   ]
  },
  {
   "cell_type": "code",
   "execution_count": 155,
   "id": "4d189e52-1296-47df-9a77-12540fa728f1",
   "metadata": {
    "scrolled": true
   },
   "outputs": [],
   "source": [
    "attn_output, attn_weights = layer_block.attn._attn(query, key, value, attention_mask)"
   ]
  },
  {
   "cell_type": "code",
   "execution_count": 156,
   "id": "c138a3a9-5c85-496d-9aa1-6ec179a58810",
   "metadata": {},
   "outputs": [
    {
     "data": {
      "text/plain": [
       "(torch.Size([1, 12, 5, 64]), torch.Size([1, 12, 5, 5]))"
      ]
     },
     "execution_count": 156,
     "metadata": {},
     "output_type": "execute_result"
    }
   ],
   "source": [
    "attn_output.shape, attn_weights.shape"
   ]
  },
  {
   "cell_type": "code",
   "execution_count": 157,
   "id": "54c37fa9-ffd0-4cb7-b0b0-227e7fd44d93",
   "metadata": {},
   "outputs": [
    {
     "data": {
      "text/plain": [
       "torch.Size([1, 5, 768])"
      ]
     },
     "execution_count": 157,
     "metadata": {},
     "output_type": "execute_result"
    }
   ],
   "source": [
    "attn_output = layer_block.attn._merge_heads(attn_output, num_heads, head_dim)\n",
    "attn_output.shape"
   ]
  },
  {
   "cell_type": "code",
   "execution_count": 158,
   "id": "69a3029f-7dc4-43c1-8282-6f6d240bbdf4",
   "metadata": {},
   "outputs": [
    {
     "data": {
      "text/plain": [
       "tensor([[[ 0.1759,  0.0996,  0.1026,  ...,  0.0770, -0.2688, -0.0985],\n",
       "         [ 0.1782,  0.0855,  0.1106,  ...,  0.1054, -0.0826, -0.0332],\n",
       "         [ 0.1779,  0.0423,  0.1259,  ...,  0.1113, -0.0683, -0.0458],\n",
       "         [ 0.1479,  0.0313,  0.0835,  ...,  0.0966, -0.0892, -0.0701],\n",
       "         [-0.0191, -0.0610,  0.1360,  ...,  0.0839, -0.0824, -0.0785]]],\n",
       "       grad_fn=<ViewBackward0>)"
      ]
     },
     "execution_count": 158,
     "metadata": {},
     "output_type": "execute_result"
    }
   ],
   "source": [
    "attn_output"
   ]
  },
  {
   "cell_type": "code",
   "execution_count": 159,
   "id": "965a7ae1-bed4-439d-9cd8-cec91481983d",
   "metadata": {},
   "outputs": [],
   "source": [
    "attn_output = layer_block.attn.c_proj(attn_output)"
   ]
  },
  {
   "cell_type": "code",
   "execution_count": 160,
   "id": "b706ef6b-5941-49b9-96f1-5c567cac311f",
   "metadata": {},
   "outputs": [
    {
     "data": {
      "text/plain": [
       "torch.Size([1, 5, 768])"
      ]
     },
     "execution_count": 160,
     "metadata": {},
     "output_type": "execute_result"
    }
   ],
   "source": [
    "attn_output.shape"
   ]
  },
  {
   "cell_type": "code",
   "execution_count": 136,
   "id": "13b0d1e4-6f2e-4fb8-8954-e08d93d43a88",
   "metadata": {
    "scrolled": true
   },
   "outputs": [
    {
     "data": {
      "text/plain": [
       "tensor([[[ 0.6093, -0.2866,  0.2530,  ...,  0.0300, -0.0228,  0.0216],\n",
       "         [-0.2909, -0.2758,  0.2719,  ...,  0.0023,  0.0487, -0.0052],\n",
       "         [-0.3846,  0.0536,  0.2804,  ..., -0.0273,  0.0266, -0.0028],\n",
       "         [-0.5528, -0.0046, -0.1549,  ..., -0.0027, -0.0336,  0.0284],\n",
       "         [-1.3225,  0.7394, -0.4122,  ..., -0.0089, -0.0326, -0.0465]]],\n",
       "       grad_fn=<ViewBackward0>)"
      ]
     },
     "execution_count": 136,
     "metadata": {},
     "output_type": "execute_result"
    }
   ],
   "source": [
    "attn_output"
   ]
  },
  {
   "cell_type": "code",
   "execution_count": 161,
   "id": "437cfd00-4217-417a-abf0-eb2fee0ea79b",
   "metadata": {},
   "outputs": [],
   "source": [
    "hidden_states = attn_output + residual"
   ]
  },
  {
   "cell_type": "code",
   "execution_count": 162,
   "id": "5773eebe-e65b-4384-9dd7-70c1ba670eac",
   "metadata": {},
   "outputs": [
    {
     "data": {
      "text/plain": [
       "torch.Size([1, 5, 768])"
      ]
     },
     "execution_count": 162,
     "metadata": {},
     "output_type": "execute_result"
    }
   ],
   "source": [
    "hidden_states.shape"
   ]
  },
  {
   "cell_type": "code",
   "execution_count": 163,
   "id": "9b0280a8-70bb-47a4-a774-50807a68b7f5",
   "metadata": {},
   "outputs": [
    {
     "data": {
      "text/plain": [
       "tensor([[[ 0.6158, -0.5796,  0.3292,  ...,  0.0484, -0.0504,  0.1853],\n",
       "         [-0.2766, -0.3195,  0.2326,  ...,  0.1510,  0.0209, -0.0308],\n",
       "         [-0.4673, -0.0429,  0.4036,  ...,  0.0257,  0.1020, -0.1085],\n",
       "         [-0.4814, -0.2070,  0.0321,  ..., -0.3712, -0.0445, -0.1020],\n",
       "         [-1.4112,  0.7068, -0.2456,  ..., -0.2627, -0.0697, -0.2511]]],\n",
       "       grad_fn=<AddBackward0>)"
      ]
     },
     "execution_count": 163,
     "metadata": {},
     "output_type": "execute_result"
    }
   ],
   "source": [
    "hidden_states"
   ]
  },
  {
   "cell_type": "code",
   "execution_count": 164,
   "id": "de5ef021-976d-4616-bdb7-52cce62851c9",
   "metadata": {},
   "outputs": [],
   "source": [
    "residual = hidden_states"
   ]
  },
  {
   "cell_type": "code",
   "execution_count": 165,
   "id": "1e2f4abb-28bb-455d-a926-2a77c46cef88",
   "metadata": {},
   "outputs": [],
   "source": [
    "hidden_states = layer_block.ln_2(hidden_states)"
   ]
  },
  {
   "cell_type": "code",
   "execution_count": 166,
   "id": "1d9d60eb-9379-4311-b1a3-a6f300ef8a1f",
   "metadata": {},
   "outputs": [
    {
     "data": {
      "text/plain": [
       "torch.Size([1, 5, 768])"
      ]
     },
     "execution_count": 166,
     "metadata": {},
     "output_type": "execute_result"
    }
   ],
   "source": [
    "hidden_states.shape"
   ]
  },
  {
   "cell_type": "code",
   "execution_count": 167,
   "id": "c31c1e8d-630e-47c1-987a-cd4857e6c49d",
   "metadata": {},
   "outputs": [
    {
     "data": {
      "text/plain": [
       "tensor([[[ 0.1216, -0.0899,  0.0704,  ...,  0.0334, -0.0691,  0.1874],\n",
       "         [ 0.0099, -0.0268,  0.0387,  ...,  0.1106, -0.0021, -0.0539],\n",
       "         [-0.0154,  0.0191,  0.0730,  ..., -0.0230,  0.0884, -0.1339],\n",
       "         [-0.0199, -0.0133,  0.0053,  ..., -0.5003, -0.0804, -0.1320],\n",
       "         [-0.1165,  0.1540, -0.0424,  ..., -0.3300, -0.0937, -0.2504]]],\n",
       "       grad_fn=<NativeLayerNormBackward0>)"
      ]
     },
     "execution_count": 167,
     "metadata": {},
     "output_type": "execute_result"
    }
   ],
   "source": [
    "hidden_states"
   ]
  },
  {
   "cell_type": "code",
   "execution_count": 168,
   "id": "82e1bf83-e11d-4155-aa86-89988e6ccf28",
   "metadata": {},
   "outputs": [],
   "source": [
    "feed_forward_hidden_states = layer_block.mlp(hidden_states)"
   ]
  },
  {
   "cell_type": "code",
   "execution_count": 169,
   "id": "9350711c-60b2-455c-81d1-9185d2aac3b6",
   "metadata": {},
   "outputs": [
    {
     "data": {
      "text/plain": [
       "torch.Size([1, 5, 768])"
      ]
     },
     "execution_count": 169,
     "metadata": {},
     "output_type": "execute_result"
    }
   ],
   "source": [
    "feed_forward_hidden_states.shape"
   ]
  },
  {
   "cell_type": "code",
   "execution_count": 170,
   "id": "84871f34-3fff-4a3d-8eef-2cb4f9f53f61",
   "metadata": {},
   "outputs": [
    {
     "data": {
      "text/plain": [
       "tensor([[[ 0.4877,  0.3332, -0.0061,  ..., -1.2471, -0.6123,  1.7950],\n",
       "         [-1.0319,  0.0381, -1.0763,  ...,  0.0518,  0.0801,  0.7346],\n",
       "         [-0.5007, -0.7439, -0.2125,  ..., -0.5195, -0.1852, -1.0383],\n",
       "         [-1.7097,  0.0317, -1.6022,  ..., -1.6524,  0.8576,  1.2426],\n",
       "         [-1.8516,  2.2123, -0.2633,  ...,  0.2964,  0.0199, -0.4581]]],\n",
       "       grad_fn=<ViewBackward0>)"
      ]
     },
     "execution_count": 170,
     "metadata": {},
     "output_type": "execute_result"
    }
   ],
   "source": [
    "feed_forward_hidden_states"
   ]
  },
  {
   "cell_type": "code",
   "execution_count": 171,
   "id": "be335bba-0e0e-4bf9-a768-ba3a02f59f77",
   "metadata": {},
   "outputs": [],
   "source": [
    "hidden_states = residual + feed_forward_hidden_states"
   ]
  },
  {
   "cell_type": "code",
   "execution_count": 172,
   "id": "97415aaf-fc17-4c5e-859b-27987d93d576",
   "metadata": {},
   "outputs": [
    {
     "data": {
      "text/plain": [
       "torch.Size([1, 5, 768])"
      ]
     },
     "execution_count": 172,
     "metadata": {},
     "output_type": "execute_result"
    }
   ],
   "source": [
    "hidden_states.shape"
   ]
  },
  {
   "cell_type": "code",
   "execution_count": 173,
   "id": "21e94cb6-d18c-4001-a578-95bf40a45e90",
   "metadata": {},
   "outputs": [
    {
     "data": {
      "text/plain": [
       "tensor([[[ 1.1035, -0.2464,  0.3231,  ..., -1.1987, -0.6627,  1.9803],\n",
       "         [-1.3085, -0.2814, -0.8437,  ...,  0.2028,  0.1010,  0.7039],\n",
       "         [-0.9680, -0.7868,  0.1910,  ..., -0.4938, -0.0832, -1.1468],\n",
       "         [-2.1911, -0.1754, -1.5701,  ..., -2.0236,  0.8131,  1.1406],\n",
       "         [-3.2628,  2.9190, -0.5089,  ...,  0.0336, -0.0497, -0.7092]]],\n",
       "       grad_fn=<AddBackward0>)"
      ]
     },
     "execution_count": 173,
     "metadata": {},
     "output_type": "execute_result"
    }
   ],
   "source": [
    "hidden_states"
   ]
  },
  {
   "cell_type": "code",
   "execution_count": 181,
   "id": "6fd30da9-cafa-4f51-8336-875dc1720cb2",
   "metadata": {},
   "outputs": [
    {
     "data": {
      "text/plain": [
       "tensor([[[  1.0126,   0.0504,  -0.6634,  ...,  -0.8270,  -0.4964,   0.3985],\n",
       "         [  2.8837,   2.2619,   0.9429,  ...,   3.7265,   6.8395,   1.9387],\n",
       "         [  8.6963,  -5.3443,  -7.6458,  ...,   5.4948,  -0.1229,   4.5138],\n",
       "         [  2.1593,  -4.8067, -14.9140,  ...,  -2.5139,   0.4066,   1.6212],\n",
       "         [  0.7236,  -1.0082, -19.5502,  ...,   0.9085,  -1.3381,  -5.2373]]],\n",
       "       grad_fn=<AddBackward0>)"
      ]
     },
     "execution_count": 181,
     "metadata": {},
     "output_type": "execute_result"
    }
   ],
   "source": [
    "thingy = hidden_states\n",
    "thingy"
   ]
  },
  {
   "cell_type": "markdown",
   "id": "e1230e6d-e0c5-436b-a4a7-5857348a66ad",
   "metadata": {},
   "source": [
    "## The Other Blocks"
   ]
  },
  {
   "cell_type": "code",
   "execution_count": 178,
   "id": "60fe9393-2c8b-43a6-9c01-9cdae44b0a43",
   "metadata": {},
   "outputs": [],
   "source": [
    "for block in model.h[1:]:\n",
    "    hidden_states = block(hidden_states)[0]"
   ]
  },
  {
   "cell_type": "code",
   "execution_count": 179,
   "id": "0089d5de-d5ec-4026-935f-fcc80f4fa603",
   "metadata": {},
   "outputs": [
    {
     "data": {
      "text/plain": [
       "tensor([[[  1.0126,   0.0504,  -0.6634,  ...,  -0.8270,  -0.4964,   0.3985],\n",
       "         [  2.8837,   2.2619,   0.9429,  ...,   3.7265,   6.8395,   1.9387],\n",
       "         [  8.6963,  -5.3443,  -7.6458,  ...,   5.4948,  -0.1229,   4.5138],\n",
       "         [  2.1593,  -4.8067, -14.9140,  ...,  -2.5139,   0.4066,   1.6212],\n",
       "         [  0.7236,  -1.0082, -19.5502,  ...,   0.9085,  -1.3381,  -5.2373]]],\n",
       "       grad_fn=<AddBackward0>)"
      ]
     },
     "execution_count": 179,
     "metadata": {},
     "output_type": "execute_result"
    }
   ],
   "source": [
    "hidden_states"
   ]
  },
  {
   "cell_type": "code",
   "execution_count": 182,
   "id": "b971b718-631e-475e-be3b-c9154802b991",
   "metadata": {},
   "outputs": [
    {
     "data": {
      "text/plain": [
       "tensor([[[ 0.0530, -0.0137, -0.2393,  ..., -0.1245, -0.1116,  0.0225],\n",
       "         [ 0.2470,  0.2260,  0.0397,  ...,  0.2413,  0.4349,  0.1768],\n",
       "         [ 0.7483, -0.4052, -0.9382,  ...,  0.3646, -0.0287,  0.3722],\n",
       "         [ 0.1990, -0.3695, -1.8210,  ..., -0.1772,  0.0093,  0.1647],\n",
       "         [ 0.0704, -0.0537, -2.5189,  ...,  0.0582, -0.1217, -0.3843]]],\n",
       "       grad_fn=<NativeLayerNormBackward0>)"
      ]
     },
     "execution_count": 182,
     "metadata": {},
     "output_type": "execute_result"
    }
   ],
   "source": [
    "hidden_states = model.ln_f(hidden_states)\n",
    "hidden_states"
   ]
  },
  {
   "cell_type": "code",
   "execution_count": 197,
   "id": "f9131aa3-6d24-402f-a98b-f4fa7a4b3d09",
   "metadata": {},
   "outputs": [
    {
     "data": {
      "text/plain": [
       "True"
      ]
     },
     "execution_count": 197,
     "metadata": {},
     "output_type": "execute_result"
    }
   ],
   "source": [
    "torch.allclose(hidden_states, output.last_hidden_state, rtol=1e-05, atol=1e-06)"
   ]
  }
 ],
 "metadata": {
  "kernelspec": {
   "display_name": "Python 3 (ipykernel)",
   "language": "python",
   "name": "python3"
  },
  "language_info": {
   "codemirror_mode": {
    "name": "ipython",
    "version": 3
   },
   "file_extension": ".py",
   "mimetype": "text/x-python",
   "name": "python",
   "nbconvert_exporter": "python",
   "pygments_lexer": "ipython3",
   "version": "3.9.14"
  }
 },
 "nbformat": 4,
 "nbformat_minor": 5
}
