{
 "cells": [
  {
   "cell_type": "markdown",
   "id": "b4f037d7",
   "metadata": {},
   "source": [
    "# Computational Graphs and Backpropagation"
   ]
  },
  {
   "cell_type": "markdown",
   "id": "9b154759",
   "metadata": {},
   "source": [
    "In this chapter, we will introduce the fundamental concepts that underpin all of deep learning - computational graphs and backpropagation.\n",
    "To showcase these ideas we will create and train a neural network from scratch which will solve a *very simple* classification task."
   ]
  },
  {
   "cell_type": "markdown",
   "id": "e8668de8",
   "metadata": {},
   "source": [
    "If you want to follow along, you will need to execute the following imports:"
   ]
  },
  {
   "cell_type": "code",
   "execution_count": null,
   "id": "3b2f875e",
   "metadata": {},
   "outputs": [],
   "source": [
    "from math import *\n",
    "\n",
    "import torch\n",
    "import torch.nn as nn\n",
    "import torch.optim as optim\n",
    "\n",
    "from torch.autograd import Function"
   ]
  },
  {
   "cell_type": "markdown",
   "id": "98a28fe0",
   "metadata": {},
   "source": [
    "## Computational Graphs"
   ]
  },
  {
   "cell_type": "markdown",
   "id": "b78ad159",
   "metadata": {},
   "source": [
    "The basic concept you need to understand in order to grasp neural networks is that of a **computational graph**.\n",
    "\n",
    "Remember that a *graph* has nodes and edges.\n",
    "In a *computational graph* the *nodes represent functions*.\n",
    "These functions take input values and produce (compute) output values.\n",
    "The *edges carry* these *values* (which are either input values to the graph or results of preceding computations).\n",
    "Thus, computational graphs allow for simple representations of complex functions.\n",
    "\n",
    "Let's represent an example function $f: \\mathbb{R}^3 \\rightarrow \\mathbb{R}, f(x, y, z) = (x + y) \\cdot z$ using a computational graph.\n",
    "We will write $f = (x + y) \\cdot z$ to simplify notation.\n",
    "\n",
    "This function actually consists of two functions.\n",
    "The first function calculates $x + y$. The second function multiplies the result of $x + y$ by $z$.\n",
    "Put more formally, we first compute $g = x + y$ and then calculate $f = g \\cdot z$.\n",
    "\n",
    "This is what the visual representation of the computational graph for $f$ would look like:\n",
    "\n",
    "<img src=\"images/compgraph.png\" alt=\"drawing\" width=\"300\"/>\n",
    "\n",
    "> Do note that this is not the most common visualization of computational graphs.\n",
    "> Nevertheless, we will stick to it since it drives home most of the important ideas quite nicely.\n",
    "\n",
    "We can see that the graph has two nodes.\n",
    "The first node represents an addition function.\n",
    "It takes the values $x$ and $y$ and outputs the value $g$.\n",
    "The second node represents a multiplication function.\n",
    "It takes the values $g$ and $z$ and outputs the value $f$.\n",
    "Note that in this case, one of the inputs to the multiplication node (specifically $g$) is the output of a previous node, the addition node.\n",
    "\n",
    "By decomposing arbitrary functions into simple components, we can create computational graphs that represent very complex functions.\n",
    "In fact, **neural networks** are nothing more than just certain kinds of computational graphs, namely computational graphs that are *differentiable*.\n",
    "This means that every node function has a gradient (or more technically, a subgradient, though this distinction doesn't really matter right now).\n",
    "If all of this sounds like wizardry, don't worry - we will get into this in a few minutes.\n",
    "\n",
    "We just saw that the edges carry values.\n",
    "But what values do they carry?\n",
    "There aren't many restrictions here.\n",
    "While in the above examples, we had numbers, there is nothing that prevents us from passing vectors, matrices, or even more complicated objects around.\n",
    "In fact, this is what we will usually do!\n",
    "\n",
    "Consider the function $f: \\mathbb{R}^{n} \\rightarrow \\mathbb{R}^{m}, f(\\vec{x}) = \\max(W\\vec{x} + \\vec{b}, \\vec{0})$ where $W \\in \\mathbb{R}^{m \\times n}$, $\\vec{b} \\in \\mathbb{R}^{m}$ and $\\max$ is the elementwise maximum. \n",
    "\n",
    "> The form of this function is no accident.\n",
    "> It represents a (very simple) neural network.\n",
    "\n",
    "We can break this function up as follows:\n",
    "\n",
    "$\\vec{c} = W\\vec{x}$\n",
    "\n",
    "$\\vec{d} = \\vec{c} + \\vec{b}$\n",
    "\n",
    "$\\vec{f} = \\max(\\vec{d}, \\vec{0})$\n",
    "\n",
    "The visual representation looks like this:\n",
    "\n",
    "<img src=\"images/compgraph2.png\" alt=\"drawing\" width=\"400\"/>\n",
    "\n",
    "Generally, the values that will flow through our computational graph can be _arbitrary tensors_."
   ]
  },
  {
   "cell_type": "markdown",
   "id": "40d388c9",
   "metadata": {},
   "source": [
    "## Tensor"
   ]
  },
  {
   "cell_type": "markdown",
   "id": "56dd6a93",
   "metadata": {},
   "source": [
    "There are different definitions of tensors depending on the mathematical branch you're in.\n",
    "For the purposes of deep learning, a **tensor** is nothing else but a *multidimensional array* (if you've ever used numpy arrays, this is very similar).\n",
    "\n",
    "For example, a zero-dimensional tensor is just a number:"
   ]
  },
  {
   "cell_type": "code",
   "execution_count": null,
   "id": "8d477d44",
   "metadata": {},
   "outputs": [],
   "source": [
    "tensor0 = torch.tensor(1)\n",
    "print(tensor0)"
   ]
  },
  {
   "cell_type": "markdown",
   "id": "c96b8fc2",
   "metadata": {},
   "source": [
    "A one-dimensional tensor is a vector (or an array or a list, depending on what language you like more):"
   ]
  },
  {
   "cell_type": "code",
   "execution_count": null,
   "id": "152d6a95",
   "metadata": {},
   "outputs": [],
   "source": [
    "tensor1 = torch.tensor([1, 2, 3, 4])\n",
    "print(tensor1)"
   ]
  },
  {
   "cell_type": "markdown",
   "id": "f3e8f031",
   "metadata": {},
   "source": [
    "A two-dimensional tensor is a matrix:"
   ]
  },
  {
   "cell_type": "code",
   "execution_count": null,
   "id": "ca168072",
   "metadata": {},
   "outputs": [],
   "source": [
    "tensor2 = torch.tensor([[1, 2, 3], [4, 5, 6]])\n",
    "print(tensor2)"
   ]
  },
  {
   "cell_type": "markdown",
   "id": "c55fc51c",
   "metadata": {},
   "source": [
    "You can also construct tensors of three, four or any arbitrary number of dimensions. Here is how a three-dimensional tensor could look like:"
   ]
  },
  {
   "cell_type": "code",
   "execution_count": null,
   "id": "76e7a5d1",
   "metadata": {},
   "outputs": [],
   "source": [
    "tensor3 = torch.tensor([[[1, 2], [4, 5]], [[6, 7], [8, 9]]])\n",
    "print(tensor3)"
   ]
  },
  {
   "cell_type": "markdown",
   "id": "420e37bd",
   "metadata": {},
   "source": [
    "You can get the dimension of a tensor using the *dim* function:"
   ]
  },
  {
   "cell_type": "code",
   "execution_count": null,
   "id": "bb8fd903",
   "metadata": {},
   "outputs": [],
   "source": [
    "print(tensor0.dim(), tensor1.dim(), tensor2.dim(), tensor3.dim())"
   ]
  },
  {
   "cell_type": "markdown",
   "id": "493cbe86",
   "metadata": {},
   "source": [
    "Why would we need such high-dimensional tensors?\n",
    "Consider an NLP task where each *word is represented by a high-dimensional vector* (this is the *first* dimension).\n",
    "A *text consists of multiple words* (this is the *second* dimension).\n",
    "To decrease training time, we often pass *multiple texts at the same time* through a neural network (this is the *third* dimension).\n",
    "I want to reiterate that this is *not* some theoretical construction, but in fact, a very common setup.\n",
    "So the earlier you get used to high-dimensional tensors, the better.\n",
    "\n",
    "This is not meant to intimidate you (of course we *would* say that, wouldn't we).\n",
    "High-dimensional tensors sound scary (mostly because people associate them with quantum mechanics and the like), but for our purposes, we don't care about most of that scariness.\n",
    "In fact, a lot of concepts concerning vectors and matrices generalize quite nicely to tensors.\n",
    "\n",
    "For example, **tensor addition** and **tensor-constant multiplication** are done componentwise (just like with vectors and matrices):"
   ]
  },
  {
   "cell_type": "code",
   "execution_count": null,
   "id": "fe0907f1-23e7-41a1-99df-94ff1a2e8396",
   "metadata": {},
   "outputs": [],
   "source": [
    "t1 = torch.tensor([[1, 2, 3], [4, 5, 6]])\n",
    "t2 = torch.tensor([[2, 1, 2], [3, 1, 0]])\n",
    "print(t1 + t2)"
   ]
  },
  {
   "cell_type": "code",
   "execution_count": null,
   "id": "2eb1ceda-252b-46ee-9a3f-ed9eae78ba26",
   "metadata": {},
   "outputs": [],
   "source": [
    "print(3 * t1)"
   ]
  },
  {
   "cell_type": "markdown",
   "id": "dde44e26-3c1d-45fe-90dd-8c0c3ade6c32",
   "metadata": {},
   "source": [
    "Consider another operation we will commonly use with tensors - their **product** (which we denote by $\\otimes$).\n",
    "Do note that we will introduce a very particular tensor product (which is sometimes called the *matrix product of tensors*).\n",
    "Depending on your background, you may be familiar with other tensor products.\n",
    "\n",
    "> This is nothing unusual.\n",
    "> Consider matrix products, for example.\n",
    "> There is the matrix multiplication and the Hadamard product (which is the element-wise multiplication of two matrices).\n",
    "> In fact, PyTorch has a multitude of functions for computing tensor products (for example, matmul and tensordot that do different things).\n",
    "> I want to stress - we introduce the tensor product the way we do because it is what is useful for us in deep learning - no more, no less.\n",
    "\n",
    "The product of two one-dimensional tensors is essentially the dot product.\n",
    "For example, if $\\vec{v} = \\begin{bmatrix} 1 \\\\ 2 \\\\ 3 \\\\ 4 \\end{bmatrix}$ and $\\vec{w} = \\begin{bmatrix} 5 \\\\ 6 \\\\ 7 \\\\ 8 \\end{bmatrix}$, then $\\vec{v} \\otimes \\vec{w} = 1 \\cdot 5 + 2 \\cdot 6 + 3 \\cdot 7 + 4 \\cdot 8 = 70$.\n",
    "This is where you might have a first clash with the tensor product as it is known in other areas (where $\\vec{v} \\otimes \\vec{w}$ may be the *outer* product of $\\vec{v}$ and $\\vec{w}$).\n",
    "\n",
    "To compute this in pytorch, we could use the dot function:"
   ]
  },
  {
   "cell_type": "code",
   "execution_count": null,
   "id": "86fe72c7",
   "metadata": {},
   "outputs": [],
   "source": [
    "v = torch.tensor([1, 2, 3, 4])\n",
    "w = torch.tensor([5, 6, 7, 8])\n",
    "print(torch.dot(v, w))"
   ]
  },
  {
   "cell_type": "markdown",
   "id": "7830f47c",
   "metadata": {},
   "source": [
    "We could also use the matmul function that also generalizes to higher-dimensional tensors:"
   ]
  },
  {
   "cell_type": "code",
   "execution_count": null,
   "id": "2583c1b7",
   "metadata": {},
   "outputs": [],
   "source": [
    "v = torch.tensor([1, 2, 3, 4])\n",
    "w = torch.tensor([5, 6, 7, 8])\n",
    "print(torch.matmul(v, w))"
   ]
  },
  {
   "cell_type": "markdown",
   "id": "f92ab7a4",
   "metadata": {},
   "source": [
    "The product of a one-dimensional tensor and a two-dimensional tensor is just regular matrix-vector multiplication. For example, if $W = \\begin{bmatrix} 1 & 3 \\\\ 5 & 7 \\\\ 9 & 11 \\end{bmatrix}$ and $\\vec{x} = \\begin{bmatrix} 2 \\\\ 4 \\end{bmatrix}$, then $W \\otimes \\vec{x} = W \\cdot \\vec{x} = \\begin{bmatrix} 1 \\cdot 2 + 3 \\cdot 4 \\\\ 5 \\cdot 2 + 7 \\cdot 4 \\\\ 9 \\cdot 2 + 11 \\cdot 4 \\end{bmatrix} = \\begin{bmatrix} 14 \\\\ 38 \\\\ 62 \\end{bmatrix}$.\n",
    "\n",
    "Let's reproduce this with pytorch:"
   ]
  },
  {
   "cell_type": "code",
   "execution_count": null,
   "id": "2af56c14",
   "metadata": {},
   "outputs": [],
   "source": [
    "W = torch.tensor([[1, 3], [5, 7], [9, 11]])\n",
    "x = torch.tensor([2, 4])\n",
    "print(torch.matmul(W, x))"
   ]
  },
  {
   "cell_type": "markdown",
   "id": "98ce9c38",
   "metadata": {},
   "source": [
    "Similarly, the product of two two-dimensional tensors is just regular matrix-matrix multiplication. For example, if $U = \\begin{bmatrix} 1 & 2 \\\\ 3 & 4 \\\\ 5 & 6 \\end{bmatrix}$ and $V = \\begin{bmatrix} 2 & 1 \\\\ 1 & 3 \\end{bmatrix}$, then $U \\otimes V = U \\cdot V = \\begin{bmatrix} 1 \\cdot 2 + 2 \\cdot 1 & 1 \\cdot 1 + 2 \\cdot 3 \\\\ 3 \\cdot 2 + 4 \\cdot 1 & 3 \\cdot 1 + 4 \\cdot 3 \\\\ 5 \\cdot 2 + 6 \\cdot 1 & 5 \\cdot 1 + 6 \\cdot 3 \\end{bmatrix} = \\begin{bmatrix} 4 & 7 \\\\ 10 & 15 \\\\ 16 & 23 \\end{bmatrix}$"
   ]
  },
  {
   "cell_type": "code",
   "execution_count": null,
   "id": "d2886d93",
   "metadata": {},
   "outputs": [],
   "source": [
    "U = torch.tensor([[1, 2], [3, 4], [5, 6]])\n",
    "V = torch.tensor([[2, 1], [1, 3]])\n",
    "print(torch.matmul(U, V))"
   ]
  },
  {
   "cell_type": "markdown",
   "id": "1b1f699c",
   "metadata": {},
   "source": [
    "But what about products of tensors with more than two dimensions?\n",
    "The tensor product generalizes in a straightforward fashion.\n",
    "Consider the multiplication of a three-dimensional tensor $Q$ of dimension $m \\times n \\times d$ (i.e. $Q \\in \\mathbb{R}^{m \\times n \\times d}$) with a one-dimensional tensor $\\vec{x}$ of dimension $d$ (i.e. $\\vec{x} \\in \\mathbb{R}^d$).\n",
    "We can treat $Q$ as a list of $m$ matrices of dimension $n \\times d$ each.\n",
    "Then, we simply compute $m$ vector-matrix products.\n",
    "Each such product is a product of a matrix $Q_i \\in \\mathbb{R}^{n \\times d}$ and the vector $\\vec{x} \\in \\mathbb{R}^d$.\n",
    "Therefore, each product results in a vector of dimension $n$.\n",
    "We can stack these vectors back into a matrix resulting in a matrix of dimension $\\mathbb{R}^{m \\times n}$.\n",
    "\n",
    "Consider the tensor $Q = \\begin{bmatrix} \\begin{bmatrix} 1 & 0 & 1 \\\\ 0 & 1 & 0 \\\\ 1 & 0 & 1 \\\\ 1 & 1 & 1\\end{bmatrix}, \\begin{bmatrix} 0 & 0 & 1 \\\\ 0 & 1 & 1 \\\\ 1 & 1 & 1 \\\\ 1 & 0 & 0 \\end{bmatrix} \\end{bmatrix}$ and the vector $\\vec{x} = \\begin{bmatrix} 5 \\\\ 6 \\\\ 7 \\end{bmatrix}$.\n",
    "We can think of $Q$ as a list of two matrices $Q = \\begin{bmatrix} Q_1 & Q_2 \\end{bmatrix}$ where $Q_1 = \\begin{bmatrix} 1 & 0 & 1 \\\\ 0 & 1 & 0 \\\\ 1 & 0 & 1 \\\\ 1 & 1 & 1 \\end{bmatrix}$ and $Q_2 = \\begin{bmatrix} 0 & 0 & 1 \\\\ 0 & 1 & 1 \\\\ 1 & 1 & 1 \\\\ 1 & 0 & 0 \\end{bmatrix}$.\n",
    "\n",
    "Now, we have $Q \\otimes \\vec{x} = \\begin{bmatrix} (Q_1 \\cdot \\vec{x})^\\intercal \\\\ (Q_2 \\cdot \\vec{x})^\\intercal \\end{bmatrix}$ (note that we need to transpose the individual dot products). Now, we easily obtain $Q_1 \\cdot \\vec{x} = \\begin{bmatrix} 12 \\\\ 6 \\\\ 12 \\\\ 18 \\end{bmatrix}$ and $Q_2 \\cdot \\vec{x} = \\begin{bmatrix} 7 \\\\ 13 \\\\ 18 \\\\ 5 \\end{bmatrix}$. Stacking these vectors together, we get that $Q \\otimes \\vec{x} = \\begin{bmatrix} 12 & 6 & 12 & 18 \\\\ 7 & 13 & 18 & 5 \\end{bmatrix}$.\n",
    "\n",
    "Let's confirm this with code.\n",
    "First, we initialize the tensors `Q` and `x`:"
   ]
  },
  {
   "cell_type": "code",
   "execution_count": null,
   "id": "8cd367e7",
   "metadata": {},
   "outputs": [],
   "source": [
    "Q = torch.tensor([\n",
    "    [[1, 0, 1], [0, 1, 0], [1, 0, 1], [1, 1, 1]],\n",
    "    [[0, 0, 1], [0, 1, 1], [1, 1, 1], [1, 0, 0]]\n",
    "])\n",
    "print(Q.size())"
   ]
  },
  {
   "cell_type": "code",
   "execution_count": null,
   "id": "9120b4df",
   "metadata": {},
   "outputs": [],
   "source": [
    "x = torch.tensor([5, 6, 7])\n",
    "print(x.size())"
   ]
  },
  {
   "cell_type": "markdown",
   "id": "05f2b63b-2594-486b-a793-aa96adce80dd",
   "metadata": {},
   "source": [
    "Now, we use the `matmul` function to compute the (matrix) product of `Q` and `x`:"
   ]
  },
  {
   "cell_type": "code",
   "execution_count": null,
   "id": "cde8ed32",
   "metadata": {},
   "outputs": [],
   "source": [
    "y = torch.matmul(Q, x)\n",
    "print(y.size())"
   ]
  },
  {
   "cell_type": "code",
   "execution_count": null,
   "id": "21b52092",
   "metadata": {},
   "outputs": [],
   "source": [
    "print(y)"
   ]
  },
  {
   "cell_type": "markdown",
   "id": "917f43d3",
   "metadata": {},
   "source": [
    "## Our First Neural Network"
   ]
  },
  {
   "cell_type": "markdown",
   "id": "39a21dce",
   "metadata": {},
   "source": [
    "Armed with the concepts we have just learned, we can now construct our first, very simple neural network. \n",
    "\n",
    "We will attempt to fit a toy classification dataset.\n",
    "Recall from the high-level overview chapter that the neural network *fits* the data if it labels all points from a dataset (more or less) correctly.\n",
    "Note that we won't worry about concepts like validation or testing in this chapter.\n",
    "The only thing we *will* worry about is the training (fitting) process.\n",
    "\n",
    "Let's create a toy dataset:"
   ]
  },
  {
   "cell_type": "code",
   "execution_count": null,
   "id": "bbae8f15",
   "metadata": {},
   "outputs": [],
   "source": [
    "x1s = torch.tensor([0.0, 0.0, 1.0, 1.0])\n",
    "x2s = torch.tensor([0.0, 1.0, 0.0, 1.0])\n",
    "ts = torch.tensor([0, 0, 0, 1])\n",
    "\n",
    "for i in range(4):\n",
    "    print(f\"x1={x1s[i]}, x2={x2s[i]}, t={ts[i]}\")"
   ]
  },
  {
   "cell_type": "markdown",
   "id": "2d88e6cf",
   "metadata": {},
   "source": [
    "If you are familiar with basic logic, this is just the truth table for the *AND* function.\n",
    "\n",
    "Of course, we can fit such a trivial dataset without using fancy deep learning techniques.\n",
    "Nevertheless, this is a very nice example that will allow us to showcase a few important concepts.\n",
    "\n",
    "Let's think about the simplest meaningful computational graph we could construct here.\n",
    "This would obviously be some kind of affine function, i.e. something that has the form $f(x) = x_1 \\cdot w_1 + x_2 \\cdot w_2 + b$.\n",
    "However, the output of an affine function can be arbitrary, but our classes can only take the values 0 and 1 (i.e. we are dealing with binary classification here).\n",
    "We would therefore like to squash the outputs of our function to the range $[0, 1]$.\n",
    "Then, we can interpret the squashed value as the probability of the class represented by 1.\n",
    "For example, if the squashed output is $0.7$, then we would say that the data point has the class 1 with probability $0.7$.\n",
    "This has the added benefit that we can assign a *confidence* to our predictions.\n",
    "If the probability is very high (or very low), we have more confidence regarding our prediction than if the probability is e.g. $0.5$.\n",
    "\n",
    "A commonly used squashing function is the so-called *sigmoid* function defined by $\\sigma(z) = \\frac{1}{1 + \\exp(-z)}$.\n",
    "It looks like this:"
   ]
  },
  {
   "cell_type": "code",
   "execution_count": null,
   "id": "96287cd5",
   "metadata": {},
   "outputs": [],
   "source": [
    "import matplotlib.pyplot as plt\n",
    "import numpy as np\n",
    "\n",
    "sigmoid_xs = np.arange(-10, 10, 0.01)\n",
    "sigmoid_ys = 1 / (1 + np.exp(-sigmoid_xs))\n",
    "plt.plot(sigmoid_xs, sigmoid_ys)"
   ]
  },
  {
   "cell_type": "markdown",
   "id": "ec72f171",
   "metadata": {},
   "source": [
    "We can see the very small values essentially become 0, very large values essentially become 1 and everything in between is mapped to an appropriate value between $0$ and $1$ in a monotonous way (with $\\sigma(0) = 0.5$).\n",
    "This looks like a function that accomplishes what we intended.\n",
    "\n",
    "Therefore, we define our first neural network by *applying a sigmoid function to an affine function*.\n",
    "Yes, that's really all we are going to do!\n",
    "Note that, while this is the simplest meaningful setup for a classification task, it is still a *practically useful* setup that is used for certain tasks. \n",
    "\n",
    "Formally speaking, our network is defined as $y = f(\\vec{x}) = f(x_1, x_2) = \\sigma(x_1 \\cdot w_1 + x_2 \\cdot w_2 + b)$.\n",
    "\n",
    "Let's represent this function using a computational graph.\n",
    "\n",
    "First, we split $f$ into its respective computations:\n",
    "\n",
    "$h_1 = x_1 \\cdot w_1$\n",
    "\n",
    "$h_2 = x_2 \\cdot w_2$\n",
    "\n",
    "$h = h_1 + h_2$\n",
    "\n",
    "$z = h + b$\n",
    "\n",
    "$y = \\sigma(z)$\n",
    "\n",
    "Let's explicitly draw the graph:\n",
    "\n",
    "<img src=\"images/simple_net.png\" alt=\"drawing\" width=\"600\"/>\n",
    "\n",
    "Note that this computational graph is indeed *differentiable* since every function has a derivative.\n",
    "\n",
    "Recall that the basic idea behind the training of (any) machine learning model is quite simple.\n",
    "We start with randomly initialized parameters (we will discuss initialization schemes later).\n",
    "Then, we iterate through all the examples and update the parameters in such a way that we improve our performance on those examples.\n",
    "We often do multiple iterations on the dataset.\n",
    "Each iteration is called an **epoch**.\n",
    "In its simplest form, the training loop therefore looks like this:\n",
    "\n",
    "```python\n",
    "model = NeuralNetwork()\n",
    "for epoch in range(epochs):\n",
    "    for x, t in dataset:\n",
    "        model.update(x, t)\n",
    "```\n",
    "\n",
    "A few practical considerations are missing here - we will talk about them later.\n",
    "\n",
    "The big question we will discuss next is how the update should be performed.\n",
    "Intuitively, we would like to update the model parameters in such a way that the network \"performs\" a bit better on the example $x$ labeled with the target value $t$."
   ]
  },
  {
   "cell_type": "markdown",
   "id": "ec89c97c",
   "metadata": {},
   "source": [
    "## The Parameter Update"
   ]
  },
  {
   "cell_type": "markdown",
   "id": "9bc7bd8a",
   "metadata": {},
   "source": [
    "How could we accomplish that?\n",
    "\n",
    "First of all, we need to specify what we mean by \"better performance\".\n",
    "That is we need to quantify how  well a neural network performs on an example $x$ labeled with the target value $t$.\n",
    "\n",
    "To achieve this, we define a **loss function**, which measures how far the output of the network is from the correct target.\n",
    "We then simply update our parameters in such a way that the *loss decreases*.\n",
    "Put differently, we want to *minimize the loss*.\n",
    "\n",
    "In this particular case, we will use a loss function called **binary cross-entropy**, which is defined as $BCE(y, t) = -t \\cdot log(y) - (1 - t) \\cdot log(1 - y)$. Here, $y$ is the value produced by our network and $t$ is the target value.\n",
    "\n",
    "Binary cross-entropy is a concept deep learning shamelessly stole (a.k.a. *borrowed*) from information theory, but we won't go into all that and instead motivate it with a very simple intuition.\n",
    "Basically, if $t = 1$, then we want the loss to be proportional to $-\\log(y)$.\n",
    "This is because a lower $y$ in our interpretation means a higher probability of $t = 0$, which is bad if, in reality, $t = 1$.\n",
    "Similarly, if $t = 0$, we want the loss to be proportional to $-\\log(1 - y)$.\n",
    "Now, we simply combine this into one expression which gets us the formula from above.\n",
    "\n",
    "How does the loss fit into the computational graph?\n",
    "Even deep learning practitioners sometimes get confused about that, but the simple truth is that the loss is just another node put on top of the network:\n",
    "\n",
    "<img src=\"images/simple_net_loss.png\" alt=\"drawing\" width=\"600\"/>\n",
    "\n",
    "Let's take our simple neural net and set $w_1 = w_2 = 0.5$, $b = 0$.\n",
    "A quick calculation yields an output value of $y = 0.6225$ for $x_1 = 0$, $x_2 = 1$.\n",
    "We see that the output value is not quite right.\n",
    "It should be $t = 0$ and not $y = 0.6225$.\n",
    "Therefore, we want to update the parameters of the network (i.e. $w_1, w_2$ and $b$) in such a way that the output $y$ becomes a bit closer to the target $t$.\n",
    "\n",
    "What this really means is that we have to update our weights in such a way that the loss (let us call it $L$) becomes smaller.\n",
    "How could we approach this?\n",
    "\n",
    "If you have some basic knowledge of optimization theory, you are probably smirking right now.\n",
    "This is what gradient descent (and a bunch of other optimization algorithms) are for!\n",
    "However, even if you don't know any numerical optimization, you can still easily develop an idea for what we should do.\n",
    "\n",
    "Remember from high school that the derivative $\\frac{\\partial L}{\\partial b}$ tells you the way $L$ changes if we change $b$.\n",
    "For example, if $\\frac{\\partial L}{\\partial b} > 0$, then increasing $b$ would lead to an increase in $L$.\n",
    "If $\\frac{\\partial L}{\\partial b} < 0$, then an increase in $b$ would lead to a decrease in $L$.\n",
    "\n",
    "Now, assume that we somehow get our hands on $\\frac{\\partial L}{\\partial b}$.\n",
    "We want to change $b$ in such a way that $L$ decreases.\n",
    "After all, we want to *minimize* the loss.\n",
    "Therefore, we should update $b$ by a value proportionate to $-\\frac{\\partial L}{\\partial b}$.\n",
    "Put differently, we want to update $b$ by $-\\alpha \\cdot \\frac{\\partial L}{\\partial b}$ where $\\alpha$ is some parameter that controls how big our update should be.\n",
    "More formally, the update step looks as follows:\n",
    "\n",
    "$b^{(t+1)} = b^{(t)} - \\alpha \\cdot \\frac{\\partial L}{\\partial b^{(t)}}$\n",
    "\n",
    "That is, at step $t$ we update $b$ by subtracting $\\alpha \\cdot \\frac{\\partial L}{\\partial b^{(t)}}$ from it.\n",
    "\n",
    "Similar logic applies to the other parameters, i.e.\n",
    "\n",
    "$w_1^{(t+1)} = w_1^{(t)} - \\alpha \\cdot \\frac{\\partial L}{\\partial w_1^{(t)}}$\n",
    "\n",
    "$w_2^{(t+1)} = w_2^{(t)} - \\alpha \\cdot \\frac{\\partial L}{\\partial w_2^{(t)}}$\n",
    "\n",
    "After such an update the loss would become smaller.\n",
    "But how could we could calculate the derivative $\\frac{\\partial L}{\\partial b}$?\n",
    "Calculating e.g. the derivative $\\frac{\\partial L}{\\partial y}$ would be easy - we would simply need to take the derivative of the loss function.\n",
    "But $b$ doesn't influence the loss directly, it influences the loss through $y$.\n",
    "\n",
    "There is no reason to despair here, as we can use the *chain rule*.\n",
    "We know that $\\frac{\\partial L}{\\partial b}$ can be calculated as $\\frac{\\partial L}{\\partial b} = \\frac{\\partial L}{\\partial y} \\frac{\\partial y}{\\partial b}$.\n",
    "But now we have the same problem.\n",
    "Again $b$ is not a direct input to $y$.\n",
    "How do we get $\\frac{\\partial y}{\\partial b}$?\n",
    "\n",
    "You can probably already see where this is going.\n",
    "We see that $y$ depends on $b$ through $z$.\n",
    "By the chain rule we have $\\frac{\\partial y}{\\partial b} = \\frac{\\partial y}{\\partial z} \\frac{\\partial z}{\\partial b}$.\n",
    "\n",
    "We therefore have: $\\frac{\\partial L}{\\partial b} = \\frac{\\partial L}{\\partial y} \\frac{\\partial y}{\\partial z} \\frac{\\partial z}{\\partial b}$.\n",
    "Now, we only need to calculate the individual derivatives using our knowledge of basic differentiation, and then we are all set.\n",
    "\n",
    "Let's calculate the individual derivatives:\n",
    "\n",
    "1. We begin with $\\frac{\\partial L}{\\partial y}$. Since $L = -t \\cdot log(y) - (1 - t) \\cdot log(1 - y)$, we have $\\frac{\\partial L}{\\partial y} = \\frac{y - t}{(1 - y)y}$.\n",
    "\n",
    "2. Similarly, we get $\\frac{\\partial y}{\\partial z} = \\frac{\\exp(-z)}{(1 + \\exp(-z))^2}$.\n",
    "\n",
    "3. Finally, we have $\\frac{\\partial z}{\\partial b} = 1$.\n",
    "\n",
    "Therefore, $\\frac{\\partial L}{\\partial b} = \\frac{y - t}{(1 - y)y} \\cdot \\frac{\\exp(-z)}{(1 + \\exp(-z))^2}$\n",
    "\n",
    "The same logic holds for $w_1$ and $w_2$.\n",
    "\n",
    "Here, we have $\\frac{\\partial L}{\\partial w_1} = \\frac{\\partial L}{\\partial y} \\frac{\\partial y}{\\partial z} \\frac{\\partial z}{\\partial h} \\frac{\\partial h}{\\partial h_1} \\frac{\\partial h_1}{\\partial w_1}$.\n",
    "\n",
    "Since $\\frac{\\partial L}{\\partial y} = -\\frac{t}{y} + \\frac{1 - t}{1 - y}$, $\\frac{\\partial y}{\\partial z} = \\frac{\\exp(-z)}{(1 + \\exp(-z))^2}$, $\\frac{\\partial z}{\\partial h} = 1$, $\\frac{\\partial h}{\\partial h_1} = 1$ and $\\frac{\\partial h_1}{\\partial w_1} = x_1$, we have $\\frac{\\partial L}{\\partial w_1} = \\frac{y - t}{(1 - y)y} \\cdot \\frac{\\exp(-z)}{(1 + \\exp(-z))^2} \\cdot x_1$.\n",
    "\n",
    "You *should* verify all of this.\n",
    "It's a nice and simple, but *very relevant* exercise in calculating derivatives.\n",
    "\n",
    "In a similar fashion, we obtain $\\frac{\\partial L}{\\partial w_2} = \\frac{y - t}{(1 - y)y} \\cdot \\frac{\\exp(-z)}{(1 + \\exp(-z))^2} \\cdot x_2$\n",
    "\n",
    "Let's write all of this down in code:"
   ]
  },
  {
   "cell_type": "code",
   "execution_count": null,
   "id": "a29cb087",
   "metadata": {},
   "outputs": [],
   "source": [
    "class SimpleNet:\n",
    "    def __init__(self):\n",
    "        self.w1 = 0.5\n",
    "        self.w2 = 0.5\n",
    "        self.b = 0.0\n",
    "        \n",
    "        self.alpha = 1.0\n",
    "        \n",
    "    def forward(self, x1, x2, t):\n",
    "        h1 = x1 * self.w1\n",
    "        h2 = x2 * self.w2\n",
    "        h = h1 + h2\n",
    "        z = h + self.b\n",
    "        y = 1 / (1 + exp(-z))\n",
    "        L = -t * log(y) - (1 - t) * log(1 - y)\n",
    "        return { \"x1\": x1, \"x2\": x2, \"h1\": h1, \"h2\": h2, \"h\": h, \"z\": z, \"y\": y, \"L\": L }\n",
    "        \n",
    "    def update(self, x1, x2, t):\n",
    "        # Forward pass\n",
    "        forward_res = self.forward(x1, x2, t)\n",
    "        z, y = forward_res[\"z\"], forward_res[\"y\"]\n",
    "        \n",
    "        # Derivatives\n",
    "        dLdy = (y - t) / ((1 - y) * y)\n",
    "        dydz = exp(-z) / (1 + exp(-z)) ** 2\n",
    "        dLdw1 = dLdy * dydz * x1\n",
    "        dLdw2 = dLdy * dydz * x2\n",
    "        dLdb = dLdy * dydz\n",
    "        \n",
    "        # Update\n",
    "        self.w1 -= self.alpha * dLdw1\n",
    "        self.w2 -= self.alpha * dLdw2\n",
    "        self.b -= self.alpha * dLdb\n",
    "        return { \"dLdw1\": dLdw1, \"dLdw2\": dLdw2, \"dLdb\": dLdb }"
   ]
  },
  {
   "cell_type": "markdown",
   "id": "92593a58",
   "metadata": {},
   "source": [
    "While this may be a bit long, it's really just the formulas we discussed above written in Python.\n",
    "\n",
    "Let's take the first example from the dataset:"
   ]
  },
  {
   "cell_type": "code",
   "execution_count": null,
   "id": "fe2bd460",
   "metadata": {},
   "outputs": [],
   "source": [
    "x1, x2, t = 0.0, 0.0, 0.0\n",
    "\n",
    "net = SimpleNet()"
   ]
  },
  {
   "cell_type": "markdown",
   "id": "47723be9",
   "metadata": {},
   "source": [
    "We run a forward pass:"
   ]
  },
  {
   "cell_type": "code",
   "execution_count": null,
   "id": "97400598",
   "metadata": {},
   "outputs": [],
   "source": [
    "net.forward(x1, x2, t)"
   ]
  },
  {
   "cell_type": "markdown",
   "id": "73fb06c4",
   "metadata": {},
   "source": [
    "Now, we execute an update:"
   ]
  },
  {
   "cell_type": "code",
   "execution_count": null,
   "id": "6d3216a0",
   "metadata": {},
   "outputs": [],
   "source": [
    "net.update(x1, x2, t)"
   ]
  },
  {
   "cell_type": "markdown",
   "id": "dcb59e42",
   "metadata": {},
   "source": [
    "We can see that $w_1$, $w_2$ and $b$ have changed:"
   ]
  },
  {
   "cell_type": "code",
   "execution_count": null,
   "id": "0b9aa35c",
   "metadata": {},
   "outputs": [],
   "source": [
    "net.w1, net.w2, net.b"
   ]
  },
  {
   "cell_type": "markdown",
   "id": "a9c4561d",
   "metadata": {},
   "source": [
    "But did that change make sense? We could check this by running a forward pass and seeing if the loss decreased, i.e. if $y$ is closer to $t$ now:"
   ]
  },
  {
   "cell_type": "code",
   "execution_count": null,
   "id": "ffc9aa5b",
   "metadata": {},
   "outputs": [],
   "source": [
    "net.forward(x1, x2, t)"
   ]
  },
  {
   "cell_type": "markdown",
   "id": "a8796634",
   "metadata": {},
   "source": [
    "This looks good! Now, all we have to do is repeatedly iterate over the dataset and do updates:"
   ]
  },
  {
   "cell_type": "code",
   "execution_count": null,
   "id": "cb7df73b",
   "metadata": {},
   "outputs": [],
   "source": [
    "net = SimpleNet()\n",
    "for epoch in range(100):\n",
    "    for i in range(4):\n",
    "        x1, x2, t = x1s[i], x2s[i], ts[i]\n",
    "        net.update(x1, x2, t)"
   ]
  },
  {
   "cell_type": "markdown",
   "id": "c433de47",
   "metadata": {},
   "source": [
    "That's it!\n",
    "We've successfully trained our first neural network.\n",
    "If you understood the preceding section, you've come a *tremendously long* way toward understanding how neural networks operate.\n",
    "The rest of this chapter is mainly about coming up with a more efficient algorithm for achieving this (as calculating all the derivatives by hand is very tedious).\n",
    "\n",
    "Before we move on, let's verify that we indeed get useful predictions:"
   ]
  },
  {
   "cell_type": "code",
   "execution_count": null,
   "id": "b3184afb",
   "metadata": {},
   "outputs": [],
   "source": [
    "for i in range(4):\n",
    "    result = net.forward(x1s[i], x2s[i], ts[i])\n",
    "    print(result)"
   ]
  },
  {
   "cell_type": "markdown",
   "id": "3b10e047",
   "metadata": {},
   "source": [
    "Incredible!\n",
    "We can see that loss has become very small for every point.\n",
    "Let's have a look at the learned parameters and try to gain an intuition for what the network learned:"
   ]
  },
  {
   "cell_type": "code",
   "execution_count": null,
   "id": "85defcfa",
   "metadata": {},
   "outputs": [],
   "source": [
    "net.w1, net.w2, net.b"
   ]
  },
  {
   "cell_type": "markdown",
   "id": "5d0fcdf5",
   "metadata": {},
   "source": [
    "Basically, we learned the function $y = f(x_1, x_2) = \\sigma(5.94 \\cdot x_1 + 5.88 \\cdot x_2 - 8.94)$.\n",
    "This makes sense.\n",
    "Essentially, the network arrived at the scheme \"$x_1$ and $x_2$ both need to contribute to produce a large value; otherwise, the bias will pull the total value down\".\n",
    "This is just a (slightly convoluted) description for the *AND* function."
   ]
  },
  {
   "cell_type": "markdown",
   "id": "4e51f73f",
   "metadata": {},
   "source": [
    "## The Backpropagation Algorithm"
   ]
  },
  {
   "cell_type": "markdown",
   "id": "4c3153f2",
   "metadata": {},
   "source": [
    "Manual updates work fine but require calculating a lot of derivatives.\n",
    "This would mean that for every new model, we would need to recalculate all the derivatives by hand, which is going to get quite annoying for _Large_ Language Models.\n",
    "We want to be able to do this more efficiently. \n",
    "\n",
    "Let's closely examine the flow of derivatives through the network:\n",
    "\n",
    "<img src=\"images/backprop.png\" alt=\"drawing\" width=\"800\"/>\n",
    "\n",
    "As you can see the derivatives flow _backwards_. \n",
    "\n",
    "Additionally, the flow is very well-structured.\n",
    "\n",
    "Consider the sigmoid node.\n",
    "The derivative that _flows out_ of the node ($\\frac{\\partial L}{\\partial z}$) depends only on the derivative that _flows in_ ($\\frac{\\partial L}{\\partial y}$) and the _local derivative at the node_ $\\frac{\\partial y}{\\partial z}$.\n",
    "After all, the chain rule tells us that $\\frac{\\partial L}{\\partial z} = \\frac{\\partial L}{\\partial y} \\frac{\\partial y}{\\partial z}$.\n",
    "\n",
    "The same holds true for all the other nodes!\n",
    "_Given the derivative flowing in, each node can calculate the derivative flowing out._\n",
    "\n",
    "This has an interesting consequence.\n",
    "Instead of calculating the derivatives for every network from scratch, we can specify the nodes and give every node a `forward` and a `backward` function.\n",
    "\n",
    "The `forward` function takes inputs to the node and produces outputs from the node.\n",
    "The `backward` function takes the _derivative_ flowing in and produces the _derivative_ flowing out.\n",
    "We can then execute the following **backpropagation** algorithm approximately:\n",
    "\n",
    "```python\n",
    "forward_sorted_nodes = sort_forward(nodes)\n",
    "for node in forward_sorted_nodes:\n",
    "    input_values = node.get_input_values()\n",
    "    node.output_values = node.calc_output_values(input_values)\n",
    "    \n",
    "backward_sorted_nodes = sort_backward(nodes)\n",
    "for node in backward_sorted_nodes:\n",
    "    output_node = get_output_node(node)\n",
    "    local_grad = node.get_local_grad()\n",
    "    node.grad = local_grad * output_node.grad\n",
    "```\n",
    "\n",
    "Let's now implement a bunch of nodes in pytorch.\n",
    "Note that we usually do not have to do that (the PyTorch authors already implemented most of the important nodes).\n",
    "Nevertheless, this is an extremely useful exercise that will teach you a great deal about how neural networks *really work*.\n",
    "\n",
    "We begin by implementing the addition node.\n",
    "The forward function would simply be $z = x + y$.\n",
    "For the backward function, we would need to return two gradients - one for $x$ and one for $y$.\n",
    "\n",
    "They are pretty simple.\n",
    "We see that $\\frac{\\partial L}{\\partial x} = \\frac{\\partial L}{\\partial z}\\frac{\\partial z}{\\partial x}$.\n",
    "Since $\\frac{\\partial z}{\\partial x} = 1$, we have $\\frac{\\partial L}{\\partial x} = \\frac{\\partial L}{\\partial z}$.\n",
    "Similarly, $\\frac{\\partial L}{\\partial y} = \\frac{\\partial L}{\\partial z}$.\n",
    "\n",
    "Let's put this in code."
   ]
  },
  {
   "cell_type": "code",
   "execution_count": null,
   "id": "69661310",
   "metadata": {},
   "outputs": [],
   "source": [
    "class Add(Function):\n",
    "    @staticmethod\n",
    "    def forward(ctx, x, y):\n",
    "        return x + y\n",
    "\n",
    "    @staticmethod\n",
    "    def backward(ctx, grad_output):\n",
    "        return grad_output, grad_output"
   ]
  },
  {
   "cell_type": "markdown",
   "id": "53b754d5",
   "metadata": {},
   "source": [
    "Now, we turn to multiplication.\n",
    "The forward function is $z = x \\cdot y$.\n",
    "The backward pass again needs calculating $\\frac{\\partial L}{\\partial x} = \\frac{\\partial L}{\\partial z}\\frac{\\partial z}{\\partial x}$. \n",
    "\n",
    "However, now the local gradients are different.\n",
    "We have $\\frac{\\partial z}{\\partial x} = y$ and $\\frac{\\partial z}{\\partial y} = x$.\n",
    "\n",
    "This means that the backward pass is dependent on the forward pass.\n",
    "This is no problem, however, as we can store the values from the forward pass using the `ctx` object:"
   ]
  },
  {
   "cell_type": "code",
   "execution_count": null,
   "id": "53a40664",
   "metadata": {},
   "outputs": [],
   "source": [
    "class Mul(Function):\n",
    "    @staticmethod\n",
    "    def forward(ctx, x, y):\n",
    "        ctx.x, ctx.y = x, y\n",
    "        return x * y\n",
    "\n",
    "    @staticmethod\n",
    "    def backward(ctx, grad_output):\n",
    "        x, y = ctx.x, ctx.y\n",
    "        return grad_output * y, grad_output * x"
   ]
  },
  {
   "cell_type": "markdown",
   "id": "511b0866",
   "metadata": {},
   "source": [
    "Using a similar approach, we can define the `Sigmoid` node:"
   ]
  },
  {
   "cell_type": "code",
   "execution_count": null,
   "id": "746b0607",
   "metadata": {},
   "outputs": [],
   "source": [
    "class Sigmoid(Function):\n",
    "    @staticmethod\n",
    "    def forward(ctx, x):\n",
    "        ctx.x = x\n",
    "        return torch.tensor(1 / (1 + exp(-x)))\n",
    "\n",
    "    @staticmethod\n",
    "    def backward(ctx, grad_output):\n",
    "        x = ctx.x\n",
    "        \n",
    "        # Note that here we need to convert the local gradient to a tensor\n",
    "        grad_local = torch.tensor(exp(-x) / (1 + exp(-x)) ** 2)\n",
    "        return grad_output * grad_local"
   ]
  },
  {
   "cell_type": "markdown",
   "id": "b8d84ac8",
   "metadata": {},
   "source": [
    "And finally, we define the node for the BCE loss:"
   ]
  },
  {
   "cell_type": "code",
   "execution_count": null,
   "id": "cd5d78ca",
   "metadata": {},
   "outputs": [],
   "source": [
    "class BCELoss(Function):\n",
    "    @staticmethod\n",
    "    def forward(ctx, y, t):\n",
    "        ctx.y, ctx.t = y, t          \n",
    "        return -t * log(y) - (1 - t) * log(1 - y)\n",
    "\n",
    "    @staticmethod\n",
    "    def backward(ctx, grad_output):\n",
    "        y, t = ctx.y, ctx.t\n",
    "        y_grad_local = (y - t) / ((1 - y) * y)\n",
    "        t_grad_local = -log(y) + log(1 - y)\n",
    "        return grad_output * y_grad_local, grad_output * t_grad_local"
   ]
  },
  {
   "cell_type": "markdown",
   "id": "915c3e67",
   "metadata": {},
   "source": [
    "Let's do a sanity check on this. We pass the following values:"
   ]
  },
  {
   "cell_type": "code",
   "execution_count": null,
   "id": "b74c9d91",
   "metadata": {},
   "outputs": [],
   "source": [
    "x1 = torch.tensor(0.0)\n",
    "x2 = torch.tensor(0.0)\n",
    "w1 = torch.tensor(0.5, requires_grad=True)\n",
    "w2 = torch.tensor(0.5, requires_grad=True)\n",
    "b = torch.tensor(0.0, requires_grad=True)"
   ]
  },
  {
   "cell_type": "markdown",
   "id": "4253c2b8",
   "metadata": {},
   "source": [
    "Now, we execute the forward pass:"
   ]
  },
  {
   "cell_type": "code",
   "execution_count": null,
   "id": "9358a2a1",
   "metadata": {},
   "outputs": [],
   "source": [
    "h1 = Mul.apply(w1, x1)\n",
    "h2 = Mul.apply(w2, x2)\n",
    "h = Add.apply(h1, h2)\n",
    "z = Add.apply(h, b)\n",
    "y = Sigmoid.apply(z)\n",
    "t = torch.tensor(0.0)\n",
    "L = BCELoss.apply(y, t)\n",
    "{ \"h1\": h1, \"h2\": h2, \"h\": h, \"z\": z, \"y\": y, \"L\": L }"
   ]
  },
  {
   "cell_type": "markdown",
   "id": "de5e6610",
   "metadata": {},
   "source": [
    "Looks good so far.\n",
    "Now, if we call the `backward` function on the loss node, PyTorch will automatically calculate the gradients using the algorithm from above:"
   ]
  },
  {
   "cell_type": "code",
   "execution_count": null,
   "id": "87c9189a",
   "metadata": {},
   "outputs": [],
   "source": [
    "L.backward()"
   ]
  },
  {
   "cell_type": "code",
   "execution_count": null,
   "id": "befe78b8",
   "metadata": {},
   "outputs": [],
   "source": [
    "w1.grad, w2.grad, b.grad"
   ]
  },
  {
   "cell_type": "markdown",
   "id": "98548788",
   "metadata": {},
   "source": [
    "This is the same as the result we got in the manual version from above.\n",
    "Let's define the forward and update functions, but this time using our nodes instead of doing manual derivative calculations:"
   ]
  },
  {
   "cell_type": "code",
   "execution_count": null,
   "id": "42df180e",
   "metadata": {},
   "outputs": [],
   "source": [
    "class AutoSimpleNet:\n",
    "    def __init__(self):\n",
    "        self.w1 = torch.tensor(0.5, requires_grad=True)\n",
    "        self.w2 = torch.tensor(0.5, requires_grad=True)\n",
    "        self.b = torch.tensor(0.0, requires_grad=True)\n",
    "        \n",
    "        self.alpha = 1.0\n",
    "        \n",
    "    def forward(self, x1, x2, t):\n",
    "        h1 = Mul.apply(self.w1, x1)\n",
    "        h2 = Mul.apply(self.w2, x2)\n",
    "        h = Add.apply(h1, h2)\n",
    "        z = Add.apply(h, self.b)\n",
    "        y = Sigmoid.apply(z)\n",
    "        L = BCELoss.apply(y, t)\n",
    "        return { \"x1\": x1, \"x2\": x2, \"y\": y, \"L\": L }\n",
    "        \n",
    "    def update(self, x1, x2, t):\n",
    "        # Forward pass\n",
    "        forward_res = self.forward(x1, x2, t)\n",
    "        L = forward_res[\"L\"]\n",
    "        \n",
    "        # Backward pass\n",
    "        L.backward()\n",
    "        \n",
    "        # Update\n",
    "        with torch.no_grad():\n",
    "            dLdw1 = float(self.w1.grad)\n",
    "            dLdw2 = float(self.w2.grad)\n",
    "            dLdb = float(self.b.grad)\n",
    "            self.w1 -= self.alpha * dLdw1\n",
    "            self.w2 -= self.alpha * dLdw2\n",
    "            self.b -= self.alpha * dLdb\n",
    "            \n",
    "            self.w1.grad.zero_()\n",
    "            self.w2.grad.zero_()\n",
    "            self.b.grad.zero_()"
   ]
  },
  {
   "cell_type": "markdown",
   "id": "d55f2f60",
   "metadata": {},
   "source": [
    "The training loop doesn't change:"
   ]
  },
  {
   "cell_type": "code",
   "execution_count": null,
   "id": "858f9282",
   "metadata": {},
   "outputs": [],
   "source": [
    "net = AutoSimpleNet()\n",
    "for epoch in range(100):\n",
    "    for i in range(4):\n",
    "        x1, x2, t = x1s[i], x2s[i], ts[i]\n",
    "        net.update(x1, x2, t)"
   ]
  },
  {
   "cell_type": "markdown",
   "id": "0d05de96",
   "metadata": {},
   "source": [
    "And now for the moment of truth:"
   ]
  },
  {
   "cell_type": "code",
   "execution_count": null,
   "id": "5f216c15",
   "metadata": {},
   "outputs": [],
   "source": [
    "for i in range(4):\n",
    "    result = net.forward(x1s[i], x2s[i], ts[i])\n",
    "    print(result)"
   ]
  },
  {
   "cell_type": "markdown",
   "id": "ff1182a1",
   "metadata": {},
   "source": [
    "That looks great! Let's perform an additional sanity check by confirming that $w_1$, $w_2$ and $b$ have the same values as in the manual version:"
   ]
  },
  {
   "cell_type": "code",
   "execution_count": null,
   "id": "651ce3fb",
   "metadata": {},
   "outputs": [],
   "source": [
    "print(net.w1, net.w2, net.b)"
   ]
  },
  {
   "cell_type": "markdown",
   "id": "a2718807",
   "metadata": {},
   "source": [
    "Incredibly enough, there is not much more than this to backpropagation.\n",
    "\n",
    "You now understand the algorithm that underpins basically all of deep learning - from the simplest perceptrons to the fanciest state-of-the-art models out there."
   ]
  },
  {
   "cell_type": "markdown",
   "id": "189a9407",
   "metadata": {},
   "source": [
    "## Backpropagation in PyTorch"
   ]
  },
  {
   "cell_type": "markdown",
   "id": "a6cf8803",
   "metadata": {},
   "source": [
    "Of course, in reality, we don't actually go around implementing all the backward functions from scratch.\n",
    "As we already mentioned, the PyTorch team has already done that for *a lot* of functions.\n",
    "We can therefore simply declare the computational graph using those built-in functions, call `backward`, and then do the gradient updates.\n",
    "\n",
    "Along the way, we will also simplify the `forward` function:"
   ]
  },
  {
   "cell_type": "code",
   "execution_count": null,
   "id": "0e878c03",
   "metadata": {},
   "outputs": [],
   "source": [
    "class TorchSimpleNet:\n",
    "    def __init__(self):\n",
    "        self.w1 = torch.tensor(0.5, requires_grad=True)\n",
    "        self.w2 = torch.tensor(0.5, requires_grad=True)\n",
    "        self.b = torch.tensor(0.0, requires_grad=True)\n",
    "        \n",
    "        self.alpha = 1.0\n",
    "        \n",
    "        self.loss_fun = nn.BCELoss()\n",
    "        \n",
    "    def forward(self, x1, x2, t):\n",
    "        \"\"\"\n",
    "        h1 = torch.mul(self.w1, x1)\n",
    "        h2 = torch.mul(self.w2, x2)\n",
    "        h = torch.add(h1, h2)\n",
    "        z = torch.add(h, self.b)\n",
    "        y = torch.sigmoid(z)\n",
    "        z.retain_grad()\n",
    "        y.retain_grad()\n",
    "        \"\"\"\n",
    "        z = x1 * self.w1 + x2 * self.w2 + self.b\n",
    "        y = torch.sigmoid(z)\n",
    "        \n",
    "        L = self.loss_fun(y, t.float())\n",
    "        return { \"x1\": x1, \"x2\": x2, \"y\": y, \"L\": L }\n",
    "\n",
    "    def update(self, x1, x2, t):\n",
    "        forward_res = self.forward(x1, x2, t)\n",
    "        L = forward_res[\"L\"]\n",
    "        \n",
    "        # Backward\n",
    "        L.backward()\n",
    "        \n",
    "        # Update\n",
    "        with torch.no_grad():\n",
    "            dLdw1 = float(self.w1.grad)\n",
    "            dLdw2 = float(self.w2.grad)\n",
    "            dLdb = float(self.b.grad)\n",
    "            self.w1 -= self.alpha * dLdw1\n",
    "            self.w2 -= self.alpha * dLdw2\n",
    "            self.b -= self.alpha * dLdb\n",
    "            \n",
    "            self.w1.grad.zero_()\n",
    "            self.w2.grad.zero_()\n",
    "            self.b.grad.zero_()"
   ]
  },
  {
   "cell_type": "markdown",
   "id": "a635fb3f",
   "metadata": {},
   "source": [
    "Again the training loop doesn't change at all:"
   ]
  },
  {
   "cell_type": "code",
   "execution_count": null,
   "id": "84379246",
   "metadata": {},
   "outputs": [],
   "source": [
    "net = TorchSimpleNet()\n",
    "for epoch in range(100):\n",
    "    for i in range(4):\n",
    "        x1, x2, t = x1s[i], x2s[i], ts[i]\n",
    "        net.update(x1, x2, t) "
   ]
  },
  {
   "cell_type": "markdown",
   "id": "3c4495e0",
   "metadata": {},
   "source": [
    "We do the forward passes:"
   ]
  },
  {
   "cell_type": "code",
   "execution_count": null,
   "id": "d667fb31",
   "metadata": {},
   "outputs": [],
   "source": [
    "for i in range(4):\n",
    "    x1, x2, t = x1s[i], x2s[i], ts[i]\n",
    "    print(net.forward(x1, x2, t))"
   ]
  },
  {
   "cell_type": "markdown",
   "id": "083124c3",
   "metadata": {},
   "source": [
    "Let's also sanity check the resulting values:"
   ]
  },
  {
   "cell_type": "code",
   "execution_count": null,
   "id": "ea56037d",
   "metadata": {},
   "outputs": [],
   "source": [
    "print(net.w1, net.w2, net.b)"
   ]
  },
  {
   "cell_type": "markdown",
   "id": "304d06e1",
   "metadata": {},
   "source": [
    "This is a very basic and simple yet *complete* example of a neural network."
   ]
  },
  {
   "cell_type": "markdown",
   "id": "249a11c2-59ac-41f5-acc3-d6049509e8dd",
   "metadata": {},
   "source": [
    "## Optimizers"
   ]
  },
  {
   "cell_type": "markdown",
   "id": "a2615932-f1b9-438c-acec-dfb1ec8803ec",
   "metadata": {},
   "source": [
    "There are various optimization algorithms apart from gradient descent.\n",
    "Additionally, implementing gradient descent by hand every time we create a neural network feels kind of unnecessary.\n",
    "\n",
    "Luckily, PyTorch provides a dedicated package for optimization algorithms.\n",
    "The `torch.optim` package allows us to construct an optimizer object that will hold the current state and update the parameters based on the computed gradients:"
   ]
  },
  {
   "cell_type": "code",
   "execution_count": null,
   "id": "2d3a7a41-1660-45b7-a3aa-1cfc74fa4e7f",
   "metadata": {},
   "outputs": [],
   "source": [
    "class TorchSimpleNetV2:\n",
    "    def __init__(self):\n",
    "        self.w1 = torch.tensor(0.5, requires_grad=True)\n",
    "        self.w2 = torch.tensor(0.5, requires_grad=True)\n",
    "        self.b = torch.tensor(0.0, requires_grad=True)\n",
    "        \n",
    "        self.alpha = 1.0\n",
    "        \n",
    "        self.loss_fun = nn.BCELoss()\n",
    "\n",
    "        # To construct the optimizer, we need to give it an iterable\n",
    "        # containing the parameters to optimize.\n",
    "        self.optimizer = optim.SGD([self.w1, self.w2, self.b], lr=self.alpha)\n",
    "\n",
    "    def forward(self, x1, x2):\n",
    "        z = x1 * self.w1 + x2 * self.w2 + self.b\n",
    "        y = torch.sigmoid(z)\n",
    "        return y\n",
    "\n",
    "    def compute_loss(self, y, t):\n",
    "        return self.loss_fun(y, t.float())\n",
    "\n",
    "    def update(self, x1, x2, t):\n",
    "        # Forward pass\n",
    "        y = self.forward(x1, x2)\n",
    "        \n",
    "        # Compute loss\n",
    "        L = self.compute_loss(y, t)\n",
    "        \n",
    "        # Backward pass and optimization step\n",
    "        L.backward()\n",
    "        self.optimizer.step()\n",
    "        self.optimizer.zero_grad()\n",
    "\n",
    "net = TorchSimpleNetV2()\n",
    "for epoch in range(100):\n",
    "    for i in range(4):\n",
    "        x1, x2, t = x1s[i], x2s[i], ts[i]\n",
    "        net.update(x1, x2, t)\n",
    "\n",
    "for i in range(4):\n",
    "    x1, x2, t = x1s[i], x2s[i], ts[i]\n",
    "    print(net.forward(x1, x2))\n",
    "\n",
    "print(net.w1, net.w2, net.b)"
   ]
  },
  {
   "cell_type": "markdown",
   "id": "e29fabd7-469a-42f3-bbb7-0374ab657d09",
   "metadata": {},
   "source": [
    "## Vanishing and Exploding Gradients"
   ]
  },
  {
   "cell_type": "markdown",
   "id": "db3894c6-950f-4d79-864d-5533e846f477",
   "metadata": {},
   "source": [
    "If we look at the backpropagation algorithm, we can quickly see that if our network is very deep and we chain many multiplications, two problems can occur.\n",
    "\n",
    "**Vanishing gradients** occur when the gradients of the loss function with respect to the network's parameters become very small as they propagate backward through the layers.\n",
    "Indeed, if we multiply many small numbers with each other, we will get an increasingly smaller (vanishing) number resulting in very small gradients, and therefore, very small updates.\n",
    "As a result, the layers will learn extremely slowly (if at all).\n",
    "\n",
    "**Exploding gradients**, on the other hand, occur when the gradients become excessively large during backpropagation.\n",
    "Indeed, if we multiply many large numbers with each other, we will get an increasingly large (exploding) number resulting in very large updates, and therefore, unstable updates.\n",
    "\n",
    "There are various strategies to mitigate this (which we will discuss in the later chapters).\n",
    "Most importantly, we have to carefully initialize the model weights (luckily, PyTorch already implements that out of the box).\n",
    "\n",
    "However, you should be aware that this is a problem, and this problem occurs because of the way backpropagation works."
   ]
  },
  {
   "cell_type": "markdown",
   "id": "18ca8adf-64f4-4a33-9dd5-7b8c6ff09505",
   "metadata": {},
   "source": [
    "## Overfitting and Regularization"
   ]
  },
  {
   "cell_type": "markdown",
   "id": "d80c0a52-533e-427d-95df-e09fa2f4cae4",
   "metadata": {},
   "source": [
    "Overfitting is a common challenge in machine learning where a model \"fits\" the data too closely.\n",
    "Basically, instead of generalizing from underlying patterns, the model tries to just memorize the data set.\n",
    "As a result, the model performs exceptionally well on the training data but terribly at new, unseen data (because the model has essentially memorized the training data rather than learning the broader patterns).\n",
    "\n",
    "Regularization is a set of techniques used to prevent overfitting by imposing constraints on the complexity of the model.\n",
    "Some forms of regularization add a penalty to the loss function based on the magnitude of the model's weights.\n",
    "However, there are other forms of regularization as well (which we will look at in later chapters)."
   ]
  }
 ],
 "metadata": {
  "kernelspec": {
   "display_name": "Python 3 (ipykernel)",
   "language": "python",
   "name": "python3"
  },
  "language_info": {
   "codemirror_mode": {
    "name": "ipython",
    "version": 3
   },
   "file_extension": ".py",
   "mimetype": "text/x-python",
   "name": "python",
   "nbconvert_exporter": "python",
   "pygments_lexer": "ipython3",
   "version": "3.9.14"
  }
 },
 "nbformat": 4,
 "nbformat_minor": 5
}
